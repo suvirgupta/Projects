{
 "cells": [
  {
   "cell_type": "code",
   "execution_count": 1,
   "metadata": {
    "collapsed": true
   },
   "outputs": [],
   "source": [
    "import pandas as pd\n",
    "train_data = pd.read_csv(r\"C:\\Users\\Suvir Gupta\\PycharmProjects\\Projects\\word2vec\\nueral net\\data\\labeledTrainData.tsv\",\n",
    "                         sep = \"\\t\", header= (0))"
   ]
  },
  {
   "cell_type": "code",
   "execution_count": 2,
   "metadata": {},
   "outputs": [],
   "source": [
    "from nltk.stem.wordnet import WordNetLemmatizer\n",
    "from bs4 import BeautifulSoup\n",
    "import re\n",
    "from nltk.corpus import stopwords\n",
    "def preprocessing(reviews):\n",
    "## remove the Html Tags\n",
    "    review_text = BeautifulSoup(reviews).get_text()\n",
    "## Remove non letters\n",
    "    review_text = re.sub(\"[^a-zA-Z]\",\" \", review_text)\n",
    "## set all words to lower digits\n",
    "    review_text = review_text.lower().split()\n",
    "## remove stopwords\n",
    "    stopword = set(stopwords.words(\"english\"))\n",
    "    words = [w for w in review_text if w not in stopword]\n",
    "### lemmatization of the words to reduce them to their standard foramat\n",
    "    wordnet_lemmatizer = WordNetLemmatizer()\n",
    "    words = [wordnet_lemmatizer.lemmatize(w) for w in words]\n",
    "    return words"
   ]
  },
  {
   "cell_type": "code",
   "execution_count": 7,
   "metadata": {},
   "outputs": [
    {
     "name": "stderr",
     "output_type": "stream",
     "text": [
      "C:\\Users\\Suvir Gupta\\Anaconda3\\lib\\site-packages\\bs4\\__init__.py:181: UserWarning: No parser was explicitly specified, so I'm using the best available HTML parser for this system (\"lxml\"). This usually isn't a problem, but if you run this code on another system, or in a different virtual environment, it may use a different parser and behave differently.\n\nThe code that caused this warning is on line 193 of the file C:\\Users\\Suvir Gupta\\Anaconda3\\lib\\runpy.py. To get rid of this warning, change code that looks like this:\n\n BeautifulSoup(YOUR_MARKUP})\n\nto this:\n\n BeautifulSoup(YOUR_MARKUP, \"lxml\")\n\n  markup_type=markup_type))\n"
     ]
    }
   ],
   "source": [
    "vocabulary= [preprocessing(review) for review in train_data[\"review\"]]"
   ]
  },
  {
   "cell_type": "code",
   "execution_count": 16,
   "metadata": {},
   "outputs": [],
   "source": [
    "vocabulary_flat = [word for wd_list in vocabulary for word in wd_list]"
   ]
  },
  {
   "cell_type": "code",
   "execution_count": 20,
   "metadata": {},
   "outputs": [],
   "source": [
    "vocabulary_size = 50000"
   ]
  },
  {
   "cell_type": "code",
   "execution_count": 22,
   "metadata": {},
   "outputs": [],
   "source": [
    "import collections\n",
    "def build_dataset(words, n_words):\n",
    "  \"\"\"Process raw inputs into a dataset.\"\"\"\n",
    "  count = [['UNK', -1]]\n",
    "  count.extend(collections.Counter(words).most_common(n_words - 1))\n",
    "  dictionary = dict()\n",
    "  for word, _ in count:\n",
    "    dictionary[word] = len(dictionary)\n",
    "  data = list()\n",
    "  unk_count = 0\n",
    "  for word in words:\n",
    "    if word in dictionary:\n",
    "      index = dictionary[word]\n",
    "    else:\n",
    "      index = 0  # dictionary['UNK']\n",
    "      unk_count += 1\n",
    "    data.append(index)\n",
    "  count[0][1] = unk_count\n",
    "  reversed_dictionary = dict(zip(dictionary.values(), dictionary.keys()))\n",
    "  return data, count, dictionary, reversed_dictionary"
   ]
  },
  {
   "cell_type": "code",
   "execution_count": 23,
   "metadata": {},
   "outputs": [
    {
     "name": "stdout",
     "output_type": "stream",
     "text": [
      "Most common words (+UNK) [['UNK', 16469], ('movie', 51694), ('film', 47034), ('one', 27741), ('like', 20740)]\nSample data [408, 77, 141, 8138, 519, 2372, 123, 65, 871, 451] ['stuff', 'going', 'moment', 'mj', 'started', 'listening', 'music', 'watching', 'odd', 'documentary']\n"
     ]
    }
   ],
   "source": [
    "data, count, dictionary, reverse_dictionary = build_dataset(vocabulary_flat,\n",
    "                                                            vocabulary_size)\n",
    "# del vocabulary  # Hint to reduce memory.\n",
    "print('Most common words (+UNK)', count[:5])\n",
    "print('Sample data', data[:10], [reverse_dictionary[i] for i in data[:10]])"
   ]
  },
  {
   "cell_type": "code",
   "execution_count": 26,
   "metadata": {},
   "outputs": [
    {
     "ename": "NameError",
     "evalue": "name 'vocabulary_flat' is not defined",
     "traceback": [
      "\u001b[1;31m---------------------------------------------------------------------------\u001b[0m",
      "\u001b[1;31mNameError\u001b[0m                                 Traceback (most recent call last)",
      "\u001b[1;32m<ipython-input-26-1193e3935198>\u001b[0m in \u001b[0;36m<module>\u001b[1;34m()\u001b[0m\n\u001b[1;32m----> 1\u001b[1;33m \u001b[1;32mdel\u001b[0m \u001b[0mvocabulary_flat\u001b[0m\u001b[1;33m\u001b[0m\u001b[0m\n\u001b[0m\u001b[0;32m      2\u001b[0m \u001b[0mdata_index\u001b[0m \u001b[1;33m=\u001b[0m \u001b[1;36m0\u001b[0m\u001b[1;33m\u001b[0m\u001b[0m\n",
      "\u001b[1;31mNameError\u001b[0m: name 'vocabulary_flat' is not defined"
     ],
     "output_type": "error"
    }
   ],
   "source": [
    "del vocabulary_flat"
   ]
  },
  {
   "cell_type": "code",
   "execution_count": 35,
   "metadata": {},
   "outputs": [
    {
     "name": "stdout",
     "output_type": "stream",
     "text": [
      "77 going -> 408 stuff\n77 going -> 141 moment\n141 moment -> 8138 mj\n141 moment -> 77 going\n8138 mj -> 141 moment\n8138 mj -> 519 started\n519 started -> 8138 mj\n519 started -> 2372 listening\n"
     ]
    }
   ],
   "source": [
    "data_index = 0\n",
    "import numpy as np\n",
    "import random\n",
    "def generate_batch(batch_size, num_skips, skip_window):\n",
    "  global data_index\n",
    "  assert batch_size % num_skips == 0\n",
    "  assert num_skips <= 2 * skip_window\n",
    "  batch = np.ndarray(shape=(batch_size), dtype=np.int32)\n",
    "  labels = np.ndarray(shape=(batch_size, 1), dtype=np.int32)\n",
    "  span = 2 * skip_window + 1  # [ skip_window target skip_window ]\n",
    "  buffer = collections.deque(maxlen=span)\n",
    "  if data_index + span > len(data):\n",
    "    data_index = 0\n",
    "  buffer.extend(data[data_index:data_index + span])\n",
    "  data_index += span\n",
    "  for i in range(batch_size // num_skips):\n",
    "    target = skip_window  # target label at the center of the buffer\n",
    "    targets_to_avoid = [skip_window]\n",
    "    for j in range(num_skips):\n",
    "      while target in targets_to_avoid:\n",
    "        target = random.randint(0, span - 1)\n",
    "      targets_to_avoid.append(target)\n",
    "      batch[i * num_skips + j] = buffer[skip_window]\n",
    "      labels[i * num_skips + j, 0] = buffer[target]\n",
    "    if data_index == len(data):\n",
    "      # buffer[:] = data[:span]\n",
    "        for word in data[:span]:\n",
    "            buffer.append(word)\n",
    "        data_index = span\n",
    "    else:\n",
    "      buffer.append(data[data_index])\n",
    "      data_index += 1\n",
    "  # Backtrack a little bit to avoid skipping words in the end of a batch\n",
    "  data_index = (data_index + len(data) - span) % len(data)\n",
    "  return batch, labels\n",
    "\n",
    "batch, labels = generate_batch(batch_size=8, num_skips=2, skip_window=1)\n",
    "for i in range(8):\n",
    "  print(batch[i], reverse_dictionary[batch[i]],\n",
    "        '->', labels[i, 0], reverse_dictionary[labels[i, 0]])"
   ]
  },
  {
   "cell_type": "code",
   "execution_count": 36,
   "metadata": {},
   "outputs": [],
   "source": [
    "import tensorflow as tf\n",
    "import math\n",
    "batch_size = 128\n",
    "embedding_size = 128  # Dimension of the embedding vector.\n",
    "skip_window = 1       # How many words to consider left and right.\n",
    "num_skips = 2         # How many times to reuse an input to generate a label.\n",
    "\n",
    "# We pick a random validation set to sample nearest neighbors. Here we limit the\n",
    "# validation samples to the words that have a low numeric ID, which by\n",
    "# construction are also the most frequent.\n",
    "valid_size = 16     # Random set of words to evaluate similarity on.\n",
    "valid_window = 100  # Only pick dev samples in the head of the distribution.\n",
    "valid_examples = np.random.choice(valid_window, valid_size, replace=False)\n",
    "num_sampled = 64    # Number of negative examples to sample.\n",
    "\n",
    "graph = tf.Graph()\n",
    "\n",
    "with graph.as_default():\n",
    "\n",
    "  # Input data.\n",
    "  train_inputs = tf.placeholder(tf.int32, shape=[batch_size])\n",
    "  train_labels = tf.placeholder(tf.int32, shape=[batch_size, 1])\n",
    "  valid_dataset = tf.constant(valid_examples, dtype=tf.int32)\n",
    "\n",
    "  # Ops and variables pinned to the CPU because of missing GPU implementation\n",
    "  with tf.device('/cpu:0'):\n",
    "    # Look up embeddings for inputs.\n",
    "    embeddings = tf.Variable(\n",
    "        tf.random_uniform([vocabulary_size, embedding_size], -1.0, 1.0))\n",
    "    embed = tf.nn.embedding_lookup(embeddings, train_inputs)\n",
    "\n",
    "    # Construct the variables for the NCE loss\n",
    "    nce_weights = tf.Variable(\n",
    "        tf.truncated_normal([vocabulary_size, embedding_size],\n",
    "                            stddev=1.0 / math.sqrt(embedding_size)))\n",
    "    nce_biases = tf.Variable(tf.zeros([vocabulary_size]))\n",
    "\n",
    "  # Compute the average NCE loss for the batch.\n",
    "  # tf.nce_loss automatically draws a new sample of the negative labels each\n",
    "  # time we evaluate the loss.\n",
    "  loss = tf.reduce_mean(\n",
    "      tf.nn.nce_loss(weights=nce_weights,\n",
    "                     biases=nce_biases,\n",
    "                     labels=train_labels,\n",
    "                     inputs=embed,\n",
    "                     num_sampled=num_sampled,\n",
    "                     num_classes=vocabulary_size))\n",
    "\n",
    "  # Construct the SGD optimizer using a learning rate of 1.0.\n",
    "  optimizer = tf.train.GradientDescentOptimizer(1.0).minimize(loss)\n",
    "\n",
    "  # Compute the cosine similarity between minibatch examples and all embeddings.\n",
    "  norm = tf.sqrt(tf.reduce_sum(tf.square(embeddings), 1, keep_dims=True))\n",
    "  normalized_embeddings = embeddings / norm\n",
    "  valid_embeddings = tf.nn.embedding_lookup(\n",
    "      normalized_embeddings, valid_dataset)\n",
    "  similarity = tf.matmul(\n",
    "      valid_embeddings, normalized_embeddings, transpose_b=True)\n",
    "\n",
    "  # Add variable initializer.\n",
    "  init = tf.global_variables_initializer()"
   ]
  },
  {
   "cell_type": "code",
   "execution_count": 37,
   "metadata": {},
   "outputs": [
    {
     "name": "stdout",
     "output_type": "stream",
     "text": [
      "Initialized\nAverage loss at step  0 :  289.227996826\n"
     ]
    },
    {
     "name": "stdout",
     "output_type": "stream",
     "text": [
      "Nearest to work: williamsburg, slingshot, joslyn, everglades, properly, jud, third, bumptious,\nNearest to fact: anglophile, providence, respected, babcock, unflattering, vampyres, wonderfalls, jasmin,\nNearest to right: founded, imitates, hehe, balderdash, lonny, dreichness, kristen, dairy,\nNearest to seems: mammet, rimmed, magalh, supported, inasmuch, absence, slat, cheerleading,\nNearest to horror: jerrine, cincinnati, noon, inheritor, davison, barbour, mcintosh, egomaniac,\nNearest to still: sighing, control, straighten, memorable, perpetrator, flom, ashtray, rehman,\nNearest to minute: scotland, insightfully, profitability, morphin, wopr, wedlock, snowed, mclovins,\nNearest to comedy: disenchantment, bryant, bachman, behead, unpopularity, elektra, computer, creole,\nNearest to like: recreated, meagre, interfere, paternity, sheik, neelix, miscarrage, pah,\nNearest to acting: nailbiters, morrill, breathable, broon, forsythe, matchbox, elongated, signifying,\nNearest to world: faridany, camouflage, chilling, whodunnits, kemble, marijauna, largley, tarp,\nNearest to got: deferential, waite, decadence, sidebar, keyboardist, infantile, lessor, stapled,\nNearest to thing: homegirl, clampett, tomboy, barter, forcedanil, dissipating, yarding, muir,\nNearest to another: transitted, follower, moonwalk, version, vandermey, brigitta, regrettable, exclaim,\nNearest to young: pippin, sherri, dear, meagan, lisbeth, regrouping, swimfan, metropole,\n"
     ]
    },
    {
     "name": "stdout",
     "output_type": "stream",
     "text": [
      "Nearest to woman: wilkinson, civilizing, alert, rebellion, costa, uomo, rye, cobb,\n"
     ]
    },
    {
     "name": "stdout",
     "output_type": "stream",
     "text": [
      "Average loss at step  2000 :  124.264425044\n"
     ]
    },
    {
     "name": "stdout",
     "output_type": "stream",
     "text": [
      "Average loss at step  4000 :  56.5099060798\n"
     ]
    },
    {
     "name": "stdout",
     "output_type": "stream",
     "text": [
      "Average loss at step  6000 :  35.2794803319\n"
     ]
    },
    {
     "name": "stdout",
     "output_type": "stream",
     "text": [
      "Average loss at step  8000 :  24.9090660284\n"
     ]
    },
    {
     "name": "stdout",
     "output_type": "stream",
     "text": [
      "Average loss at step  10000 :  18.996483243\n"
     ]
    },
    {
     "name": "stdout",
     "output_type": "stream",
     "text": [
      "Nearest to work: jud, haim, third, idiotic, properly, carlisle, view, darryl,\nNearest to fact: respected, say, sean, copy, unflattering, glossy, difficult, samways,\nNearest to right: booker, founded, ala, duck, speakeasy, luise, evelyn, precious,\nNearest to seems: absence, supported, gere, kirby, degrading, filled, logan, preview,\nNearest to horror: brave, kibbutz, ernst, wray, excellent, marie, skirt, doorstep,\nNearest to still: control, memorable, sighing, inadvertently, tanning, discovering, oddity, kornbluth,\nNearest to minute: scotland, wyoming, paine, morphin, stunning, wwii, gunbuster, jonathan,\nNearest to comedy: booker, refused, computer, political, widow, older, bryant, tyson,\nNearest to like: booker, group, sasquatch, damage, sheik, donates, cousin, dependent,\nNearest to acting: cinematography, need, disappointed, forsythe, whale, mentioned, basement, clan,\nNearest to world: chilling, lv, princess, invested, potente, jones, nothing, event,\nNearest to got: capra, laughing, conscience, possibly, person, specie, carpet, cheer,\nNearest to thing: generous, action, mimic, sea, referring, paine, readily, regal,\nNearest to another: version, follower, gotten, immediately, witnessed, wheeler, fitting, remain,\nNearest to young: dear, show, doodlebops, suspected, herbert, impersonate, regrouping, fiedler,\nNearest to woman: alert, phone, costa, man, rightfully, aggressive, rebellion, dental,\n"
     ]
    },
    {
     "name": "stdout",
     "output_type": "stream",
     "text": [
      "Average loss at step  12000 :  15.2158517463\n"
     ]
    },
    {
     "name": "stdout",
     "output_type": "stream",
     "text": [
      "Average loss at step  14000 :  12.6448236446\n"
     ]
    },
    {
     "name": "stdout",
     "output_type": "stream",
     "text": [
      "Average loss at step  16000 :  11.1364619982\n"
     ]
    },
    {
     "name": "stdout",
     "output_type": "stream",
     "text": [
      "Average loss at step  18000 :  8.88423455787\n"
     ]
    },
    {
     "name": "stdout",
     "output_type": "stream",
     "text": [
      "Average loss at step  20000 :  8.01406063294\n"
     ]
    },
    {
     "name": "stdout",
     "output_type": "stream",
     "text": [
      "Nearest to work: haim, jud, circumstantial, properly, idiotic, acknowledged, film, ravishing,\nNearest to fact: say, respected, sean, copy, unflattering, one, glossy, shoved,\nNearest to right: booker, founded, duck, circumstantial, luise, speakeasy, ala, meant,\nNearest to seems: absence, panzram, supported, degrading, gere, emptiness, zoom, logan,\nNearest to horror: ernst, doorstep, excellent, brave, santos, skirt, wray, cincinnati,\nNearest to still: control, sighing, memorable, inadvertently, something, ashraf, tanning, oddity,\nNearest to minute: scotland, time, gunbuster, morphin, intro, wyoming, nard, jonathan,\nNearest to comedy: refused, bryant, computer, booker, older, political, widow, tyson,\nNearest to like: booker, neelix, empowerment, sasquatch, sheik, panzram, reviewed, dependent,\nNearest to acting: cinematography, disappointed, haw, nailbiters, forsythe, plot, need, endorsement,\nNearest to world: princess, chilling, lv, invested, camouflage, potente, melting, flashed,\nNearest to got: oop, capra, possibly, person, infantile, specie, decadence, ingenious,\nNearest to thing: movie, film, one, generous, ariel, dugan, gravel, paine,\nNearest to another: version, follower, ashraf, witnessed, immediately, occurs, gotten, firstly,\nNearest to young: herbert, preaching, twilight, thirst, norma, impersonate, dear, eh,\nNearest to woman: man, alert, rightfully, rebellion, aggressive, uomo, phone, wilkinson,\n"
     ]
    },
    {
     "name": "stdout",
     "output_type": "stream",
     "text": [
      "Average loss at step  22000 :  7.66301030874\n"
     ]
    },
    {
     "name": "stdout",
     "output_type": "stream",
     "text": [
      "Average loss at step  24000 :  7.06338754654\n"
     ]
    },
    {
     "name": "stdout",
     "output_type": "stream",
     "text": [
      "Average loss at step  26000 :  6.72486087704\n"
     ]
    },
    {
     "name": "stdout",
     "output_type": "stream",
     "text": [
      "Average loss at step  28000 :  6.56225839615\n"
     ]
    },
    {
     "name": "stdout",
     "output_type": "stream",
     "text": [
      "Average loss at step  30000 :  6.23570255136\n"
     ]
    },
    {
     "name": "stdout",
     "output_type": "stream",
     "text": [
      "Nearest to work: film, haim, jud, circumstantial, one, ravishing, argonne, paine,\nNearest to fact: say, respected, also, sean, copy, sarsgaard, one, unflattering,\nNearest to right: booker, founded, duck, growl, ala, en, meant, taoist,\nNearest to seems: absence, kaakha, panzram, degrading, emptiness, magalh, zoom, inasmuch,\nNearest to horror: doorstep, ernst, cincinnati, argonne, excellent, egomaniac, skirt, santos,\nNearest to still: something, sighing, control, memorable, even, inadvertently, better, swatch,\nNearest to minute: scotland, time, year, gunbuster, morphin, intro, tbn, nard,\nNearest to comedy: refused, computer, movie, bryant, older, booker, political, medical,\nNearest to like: booker, sasquatch, empowerment, neelix, panzram, reviewed, morand, dependent,\nNearest to acting: cinematography, plot, haw, disappointed, performance, forsythe, script, endorsement,\nNearest to world: lv, chilling, princess, invested, camouflage, therapy, flashed, event,\nNearest to got: possibly, capra, alluded, really, oop, get, person, ingenious,\nNearest to thing: one, movie, film, ariel, pornichet, gravel, paine, dumroo,\nNearest to another: version, pentagram, follower, witnessed, ashraf, immediately, also, firstly,\nNearest to young: preaching, herbert, old, yeung, twilight, lisa, thirst, gunfight,\nNearest to woman: man, rightfully, aggressive, alert, girl, rebellion, korman, face,\n"
     ]
    },
    {
     "name": "stdout",
     "output_type": "stream",
     "text": [
      "Average loss at step  32000 :  6.0807021203\n"
     ]
    },
    {
     "name": "stdout",
     "output_type": "stream",
     "text": [
      "Average loss at step  34000 :  5.98003483224\n"
     ]
    },
    {
     "name": "stdout",
     "output_type": "stream",
     "text": [
      "Average loss at step  36000 :  5.85967979431\n"
     ]
    },
    {
     "name": "stdout",
     "output_type": "stream",
     "text": [
      "Average loss at step  38000 :  5.83781196022\n"
     ]
    },
    {
     "name": "stdout",
     "output_type": "stream",
     "text": [
      "Average loss at step  40000 :  5.70377856779\n"
     ]
    },
    {
     "name": "stdout",
     "output_type": "stream",
     "text": [
      "Nearest to work: film, haim, jud, circumstantial, one, ravishing, show, renn,\nNearest to fact: say, also, respected, copy, sean, anglophile, sarsgaard, glossy,\nNearest to right: booker, tyrannous, letty, duck, UNK, founded, catalunya, taoist,\nNearest to seems: letty, kaakha, absence, panzram, degrading, emptiness, extensively, inasmuch,\nNearest to horror: doorstep, ernst, argonne, cincinnati, tmtm, egomaniac, skirt, brave,\nNearest to still: even, also, something, anodyne, control, swatch, sighing, leonora,\nNearest to minute: time, scotland, year, morphin, gunbuster, tbn, intro, jersey,\nNearest to comedy: movie, film, refused, computer, bryant, medical, guthrie, booker,\nNearest to like: booker, empowerment, sasquatch, think, morand, UNK, reviewed, quaid,\nNearest to acting: cinematography, performance, script, plot, haw, disappointed, actor, direction,\nNearest to world: lv, chilling, princess, invested, therapy, camouflage, dip, flashed,\nNearest to got: get, possibly, really, capra, alluded, person, ingenious, UNK,\nNearest to thing: one, movie, film, scene, paine, dumroo, pornichet, ariel,\nNearest to another: also, version, one, pentagram, follower, witnessed, immediately, ashraf,\nNearest to young: preaching, old, herbert, lisa, two, twilight, hadass, pippin,\nNearest to woman: man, girl, people, aggressive, rightfully, face, paine, sarne,\n"
     ]
    },
    {
     "name": "stdout",
     "output_type": "stream",
     "text": [
      "Average loss at step  42000 :  5.64856795669\n"
     ]
    },
    {
     "name": "stdout",
     "output_type": "stream",
     "text": [
      "Average loss at step  44000 :  5.59631974578\n"
     ]
    },
    {
     "name": "stdout",
     "output_type": "stream",
     "text": [
      "Average loss at step  46000 :  5.48220732999\n"
     ]
    },
    {
     "name": "stdout",
     "output_type": "stream",
     "text": [
      "Average loss at step  48000 :  5.70418503356\n"
     ]
    },
    {
     "name": "stdout",
     "output_type": "stream",
     "text": [
      "Average loss at step  50000 :  5.57625641274\nNearest to work: film, sayori, renn, circumstantial, show, argonne, haim, paine,\nNearest to fact: say, also, respected, one, sarsgaard, really, sean, anglophile,\nNearest to right: booker, tyrannous, letty, growl, madigan, founded, duck, catalunya,\nNearest to seems: letty, look, kaakha, panzram, absence, seem, happens, emptiness,\nNearest to horror: doorstep, ernst, slasher, egomaniac, davison, argonne, cincinnati, tmtm,\nNearest to still: also, even, something, really, anodyne, control, leonora, sighing,\nNearest to minute: time, scotland, year, episode, profitability, alecia, morphin, gunbuster,\nNearest to comedy: movie, refused, bryant, computer, film, deadbeat, joanne, medical,\nNearest to like: booker, empowerment, morand, think, sasquatch, reviewed, quaid, UNK,\nNearest to acting: script, cinematography, performance, dialogue, plot, direction, actor, effect,\nNearest to world: lv, invested, therapy, dip, princess, chilling, event, life,\nNearest to got: get, alecia, alluded, possibly, ingenious, really, capra, sure,\nNearest to thing: movie, one, way, dumroo, think, film, ariel, paine,\n"
     ]
    },
    {
     "name": "stdout",
     "output_type": "stream",
     "text": [
      "Nearest to another: also, one, first, version, pentagram, iteration, immediately, witnessed,\nNearest to young: old, two, herbert, preaching, lisa, twilight, played, eh,\nNearest to woman: man, girl, people, face, paine, aggressive, rightfully, UNK,\n"
     ]
    },
    {
     "name": "stdout",
     "output_type": "stream",
     "text": [
      "Average loss at step  52000 :  5.46133292651\n"
     ]
    },
    {
     "name": "stdout",
     "output_type": "stream",
     "text": [
      "Average loss at step  54000 :  5.4219859736\n"
     ]
    },
    {
     "name": "stdout",
     "output_type": "stream",
     "text": [
      "Average loss at step  56000 :  5.35738244367\n"
     ]
    },
    {
     "name": "stdout",
     "output_type": "stream",
     "text": [
      "Average loss at step  58000 :  5.31025130892\n"
     ]
    },
    {
     "name": "stdout",
     "output_type": "stream",
     "text": [
      "Average loss at step  60000 :  5.2924174881\nNearest to work: film, show, renn, sayori, argonne, circumstantial, done, taj,\nNearest to fact: say, also, respected, one, sarsgaard, really, anglophile, genma,\nNearest to right: booker, tyrannous, letty, growl, catalunya, duck, taoist, founded,\nNearest to seems: look, letty, seem, kaakha, happens, panzram, absence, watchability,\nNearest to horror: slasher, doorstep, ernst, cincinnati, tmtm, egomaniac, argonne, davison,\nNearest to still: also, even, really, something, anodyne, however, sighing, control,\nNearest to minute: time, scotland, year, episode, profitability, hour, morphin, alecia,\nNearest to comedy: movie, refused, bryant, medical, deadbeat, gauntlet, utter, joanne,\nNearest to like: booker, sasquatch, empowerment, porto, reviewed, morand, think, proleteriat,\nNearest to acting: script, performance, cinematography, dialogue, direction, plot, effect, also,\nNearest to world: invested, lv, dip, event, princess, therapy, life, chilling,\n"
     ]
    },
    {
     "name": "stdout",
     "output_type": "stream",
     "text": [
      "Nearest to got: get, alecia, alluded, ingenious, watched, getting, sure, possibly,\nNearest to thing: one, movie, way, dumroo, ariel, think, film, stodgy,\nNearest to another: also, one, pentagram, first, immediately, version, iteration, idiom,\nNearest to young: two, old, herbert, played, preaching, twilight, lisa, eh,\nNearest to woman: man, girl, people, men, rightfully, paine, face, aggressive,\n"
     ]
    },
    {
     "name": "stdout",
     "output_type": "stream",
     "text": [
      "Average loss at step  62000 :  5.30078517675\n"
     ]
    },
    {
     "name": "stdout",
     "output_type": "stream",
     "text": [
      "Average loss at step  64000 :  5.14826006651\n"
     ]
    },
    {
     "name": "stdout",
     "output_type": "stream",
     "text": [
      "Average loss at step  66000 :  4.96286926842\n"
     ]
    },
    {
     "name": "stdout",
     "output_type": "stream",
     "text": [
      "Average loss at step  68000 :  4.96960011077\n"
     ]
    },
    {
     "name": "stdout",
     "output_type": "stream",
     "text": [
      "Average loss at step  70000 :  4.95333599401\nNearest to work: film, sayori, show, done, renn, circumstantial, paine, argonne,\nNearest to fact: also, say, respected, however, sarsgaard, really, copy, anglophile,\nNearest to right: booker, tyrannous, letty, growl, catalunya, duck, taoist, founded,\nNearest to seems: look, letty, seem, kaakha, felt, happens, seemed, watchability,\nNearest to horror: slasher, doorstep, cincinnati, ernst, davison, egomaniac, tmtm, classic,\nNearest to still: also, really, even, however, something, anodyne, surveying, actually,\nNearest to minute: time, scotland, year, hour, episode, gunbuster, tbn, profitability,\nNearest to comedy: movie, gravitation, film, utter, medical, deadbeat, gauntlet, joanne,\nNearest to like: booker, think, sasquatch, empowerment, reviewed, morand, letty, granger,\nNearest to acting: script, performance, dialogue, cinematography, direction, effect, due, actor,\nNearest to world: dip, lv, invested, therapy, prevail, princess, life, event,\nNearest to got: get, alecia, getting, alluded, ingenious, really, watched, possibly,\nNearest to thing: one, movie, way, dumroo, really, think, least, ariel,\nNearest to another: also, one, pentagram, first, immediately, iteration, flimsiest, many,\n"
     ]
    },
    {
     "name": "stdout",
     "output_type": "stream",
     "text": [
      "Nearest to young: two, old, played, preaching, twilight, herbert, vili, lisa,\nNearest to woman: man, girl, people, men, kid, rightfully, face, paine,\n"
     ]
    },
    {
     "name": "stdout",
     "output_type": "stream",
     "text": [
      "Average loss at step  72000 :  4.9557523489\n"
     ]
    },
    {
     "name": "stdout",
     "output_type": "stream",
     "text": [
      "Average loss at step  74000 :  4.93822227669\n"
     ]
    },
    {
     "name": "stdout",
     "output_type": "stream",
     "text": [
      "Average loss at step  76000 :  4.93222373605\n"
     ]
    },
    {
     "name": "stdout",
     "output_type": "stream",
     "text": [
      "Average loss at step  78000 :  4.92645197177\n"
     ]
    },
    {
     "name": "stdout",
     "output_type": "stream",
     "text": [
      "Average loss at step  80000 :  4.92373641264\nNearest to work: done, renn, sayori, show, film, paine, taj, argonne,\nNearest to fact: also, say, respected, however, really, genma, sarsgaard, copy,\nNearest to right: booker, letty, tyrannous, UNK, catalunya, growl, going, duck,\nNearest to seems: look, seem, seemed, letty, felt, feel, happens, kaakha,\nNearest to horror: slasher, doorstep, classic, thriller, tmtm, cincinnati, showed, egomaniac,\nNearest to still: also, even, really, however, anodyne, letty, actually, surveying,\nNearest to minute: time, scotland, hour, year, episode, week, gunbuster, tbn,\nNearest to comedy: gravitation, movie, film, deadbeat, utter, medical, gauntlet, ideologically,\nNearest to like: booker, think, sasquatch, reviewed, morand, empowerment, proleteriat, made,\nNearest to acting: script, performance, cinematography, dialogue, direction, due, actor, writing,\nNearest to world: dip, life, therapy, lv, event, prevail, revolutionize, princess,\n"
     ]
    },
    {
     "name": "stdout",
     "output_type": "stream",
     "text": [
      "Nearest to got: get, getting, alecia, watched, alluded, ingenious, possibly, hesitancy,\nNearest to thing: one, movie, way, think, moment, dumroo, least, really,\nNearest to another: also, one, pentagram, first, immediately, flimsiest, many, idiom,\nNearest to young: played, two, old, twilight, preaching, herbert, lisa, vili,\nNearest to woman: man, girl, people, men, person, kid, face, rightfully,\n"
     ]
    },
    {
     "name": "stdout",
     "output_type": "stream",
     "text": [
      "Average loss at step  82000 :  4.9181582644\n"
     ]
    },
    {
     "name": "stdout",
     "output_type": "stream",
     "text": [
      "Average loss at step  84000 :  4.90880497885\n"
     ]
    },
    {
     "name": "stdout",
     "output_type": "stream",
     "text": [
      "Average loss at step  86000 :  4.91227012897\n"
     ]
    },
    {
     "name": "stdout",
     "output_type": "stream",
     "text": [
      "Average loss at step  88000 :  4.91065546227\n"
     ]
    },
    {
     "name": "stdout",
     "output_type": "stream",
     "text": [
      "Average loss at step  90000 :  4.90296099877\nNearest to work: done, film, renn, argonne, sayori, although, taj, show,\nNearest to fact: also, say, however, respected, really, genma, point, reason,\nNearest to right: booker, letty, tyrannous, catalunya, going, went, jogging, UNK,\nNearest to seems: seem, look, seemed, felt, letty, feel, happens, kaakha,\nNearest to horror: slasher, classic, thriller, doorstep, muddy, egomaniac, filled, tmtm,\nNearest to still: also, even, however, really, actually, always, anodyne, letty,\nNearest to minute: time, hour, scotland, year, episode, week, tbn, morphin,\nNearest to comedy: movie, gravitation, film, gauntlet, thriller, medical, deadbeat, joanne,\nNearest to like: booker, think, morand, empowerment, sasquatch, proleteriat, reviewed, made,\nNearest to acting: script, performance, dialogue, cinematography, direction, writing, due, actor,\nNearest to world: life, dip, lv, therapy, prevail, event, volckman, princess,\nNearest to got: get, getting, alecia, watched, alluded, ingenious, UNK, grahame,\nNearest to thing: one, way, movie, think, least, point, dumroo, probably,\n"
     ]
    },
    {
     "name": "stdout",
     "output_type": "stream",
     "text": [
      "Nearest to another: also, one, first, many, pentagram, flimsiest, idiom, immediately,\nNearest to young: two, played, old, twilight, herbert, preaching, vili, woman,\nNearest to woman: man, girl, people, men, kid, person, face, paine,\n"
     ]
    },
    {
     "name": "stdout",
     "output_type": "stream",
     "text": [
      "Average loss at step  92000 :  4.88872135806\n"
     ]
    },
    {
     "name": "stdout",
     "output_type": "stream",
     "text": [
      "Average loss at step  94000 :  4.95027623868\n"
     ]
    },
    {
     "name": "stdout",
     "output_type": "stream",
     "text": [
      "Average loss at step  96000 :  4.95869459414\n"
     ]
    },
    {
     "name": "stdout",
     "output_type": "stream",
     "text": [
      "Average loss at step  98000 :  4.92501607323\n"
     ]
    },
    {
     "name": "stdout",
     "output_type": "stream",
     "text": [
      "Average loss at step  100000 :  4.90524826884\n"
     ]
    },
    {
     "name": "stdout",
     "output_type": "stream",
     "text": [
      "Nearest to work: done, renn, argonne, sayori, taj, although, show, paine,\nNearest to fact: also, however, say, respected, point, reason, genma, really,\nNearest to right: booker, going, letty, catalunya, tyrannous, went, growl, jogging,\nNearest to seems: seem, look, seemed, felt, feel, letty, happens, kaakha,\nNearest to horror: slasher, classic, thriller, doorstep, muddy, filled, egomaniac, ernst,\nNearest to still: also, really, however, always, actually, even, may, letty,\nNearest to minute: hour, time, scotland, episode, week, year, profitability, tbn,\nNearest to comedy: gravitation, medical, thriller, deadbeat, gauntlet, utter, film, behead,\nNearest to like: reviewed, empowerment, think, morand, booker, sasquatch, know, made,\nNearest to acting: script, performance, direction, dialogue, cinematography, writing, actor, due,\nNearest to world: dip, life, event, lv, prevail, volckman, therapy, invested,\nNearest to got: get, getting, alecia, ingenious, alluded, watched, grahame, hesitancy,\nNearest to thing: one, movie, way, person, think, least, point, moment,\nNearest to another: also, first, one, many, pentagram, flimsiest, idiom, immediately,\nNearest to young: two, old, twilight, played, vili, herbert, mother, preaching,\nNearest to woman: girl, man, people, men, kid, person, boy, paine,\n"
     ]
    }
   ],
   "source": [
    "# Step 5: Begin training.\n",
    "num_steps = 100001\n",
    "\n",
    "with tf.Session(graph=graph) as session:\n",
    "  # We must initialize all variables before we use them.\n",
    "  init.run()\n",
    "  print('Initialized')\n",
    "\n",
    "  average_loss = 0\n",
    "  for step in range(num_steps):\n",
    "    batch_inputs, batch_labels = generate_batch(\n",
    "        batch_size, num_skips, skip_window)\n",
    "    feed_dict = {train_inputs: batch_inputs, train_labels: batch_labels}\n",
    "\n",
    "    # We perform one update step by evaluating the optimizer op (including it\n",
    "    # in the list of returned values for session.run()\n",
    "    _, loss_val = session.run([optimizer, loss], feed_dict=feed_dict)\n",
    "    average_loss += loss_val\n",
    "\n",
    "    if step % 2000 == 0:\n",
    "      if step > 0:\n",
    "        average_loss /= 2000\n",
    "      # The average loss is an estimate of the loss over the last 2000 batches.\n",
    "      print('Average loss at step ', step, ': ', average_loss)\n",
    "      average_loss = 0\n",
    "\n",
    "    # Note that this is expensive (~20% slowdown if computed every 500 steps)\n",
    "    if step % 10000 == 0:\n",
    "      sim = similarity.eval()\n",
    "      for i in range(valid_size):\n",
    "        valid_word = reverse_dictionary[valid_examples[i]]\n",
    "        top_k = 8  # number of nearest neighbors\n",
    "        nearest = (-sim[i, :]).argsort()[1:top_k + 1]\n",
    "        log_str = 'Nearest to %s:' % valid_word\n",
    "        for k in range(top_k):\n",
    "          close_word = reverse_dictionary[nearest[k]]\n",
    "          log_str = '%s %s,' % (log_str, close_word)\n",
    "        print(log_str)\n",
    "  final_embeddings = normalized_embeddings.eval()"
   ]
  },
  {
   "cell_type": "code",
   "execution_count": 43,
   "metadata": {},
   "outputs": [],
   "source": [
    "%matplotlib inline\n",
    "from sklearn.manifold import TSNE\n",
    "import matplotlib.pyplot as plt\n",
    "def plot_with_labels(low_dim_embs, labels, filename='tsne.png'):\n",
    "  assert low_dim_embs.shape[0] >= len(labels), 'More labels than embeddings'\n",
    "  plt.figure(figsize=(18, 18))  # in inches\n",
    "  for i, label in enumerate(labels):\n",
    "    x, y = low_dim_embs[i, :]\n",
    "    plt.scatter(x, y)\n",
    "    plt.annotate(label,\n",
    "                 xy=(x, y),\n",
    "                 xytext=(5, 2),\n",
    "                 textcoords='offset points',\n",
    "                 ha='right',\n",
    "                 va='bottom')\n",
    "\n",
    "  plt.savefig(filename)\n",
    "\n",
    "try:\n",
    "  # pylint: disable=g-import-not-at-top\n",
    "  from sklearn.manifold import TSNE\n",
    "  import matplotlib.pyplot as plt\n",
    "\n",
    "  tsne = TSNE(perplexity=30, n_components=2, init='pca', n_iter=5000, method='exact')\n",
    "  plot_only = 500\n",
    "  low_dim_embs = tsne.fit_transform(final_embeddings[:plot_only, :])\n",
    "  labels = [reverse_dictionary[i] for i in range(plot_only)]\n",
    "  plot_with_labels(low_dim_embs, labels)\n",
    "\n",
    "except ImportError:\n",
    "  print('Please install sklearn, matplotlib, and scipy to show embeddings.')"
   ]
  }
 ],
 "metadata": {
  "kernelspec": {
   "display_name": "Python 2",
   "language": "python",
   "name": "python2"
  },
  "language_info": {
   "codemirror_mode": {
    "name": "ipython",
    "version": 2.0
   },
   "file_extension": ".py",
   "mimetype": "text/x-python",
   "name": "python",
   "nbconvert_exporter": "python",
   "pygments_lexer": "ipython2",
   "version": "2.7.6"
  }
 },
 "nbformat": 4,
 "nbformat_minor": 0
}