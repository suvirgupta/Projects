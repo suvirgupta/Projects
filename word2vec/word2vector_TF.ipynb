{
 "cells": [
  {
   "cell_type": "code",
   "execution_count": 1,
   "metadata": {
    "collapsed": true
   },
   "outputs": [],
   "source": [
    "import pandas as pd\n",
    "train_data = pd.read_csv(r\"C:\\Users\\Suvir Gupta\\PycharmProjects\\Projects\\word2vec\\nueral net\\data\\labeledTrainData.tsv\",\n",
    "                         sep = \"\\t\", header= (0))"
   ]
  },
  {
   "cell_type": "code",
   "execution_count": 2,
   "metadata": {},
   "outputs": [],
   "source": [
    "from nltk.stem.wordnet import WordNetLemmatizer\n",
    "from bs4 import BeautifulSoup\n",
    "import re\n",
    "from nltk.corpus import stopwords\n",
    "def preprocessing(reviews):\n",
    "## remove the Html Tags\n",
    "    review_text = BeautifulSoup(reviews).get_text()\n",
    "## Remove non letters\n",
    "    review_text = re.sub(\"[^a-zA-Z]\",\" \", review_text)\n",
    "## set all words to lower digits\n",
    "    review_text = review_text.lower().split()\n",
    "## remove stopwords\n",
    "    stopword = set(stopwords.words(\"english\"))\n",
    "    words = [w for w in review_text if w not in stopword]\n",
    "### lemmatization of the words to reduce them to their standard foramat\n",
    "    wordnet_lemmatizer = WordNetLemmatizer()\n",
    "    words = [wordnet_lemmatizer.lemmatize(w) for w in words]\n",
    "    return words"
   ]
  },
  {
   "cell_type": "code",
   "execution_count": 7,
   "metadata": {},
   "outputs": [
    {
     "name": "stderr",
     "output_type": "stream",
     "text": [
      "C:\\Users\\Suvir Gupta\\Anaconda3\\lib\\site-packages\\bs4\\__init__.py:181: UserWarning: No parser was explicitly specified, so I'm using the best available HTML parser for this system (\"lxml\"). This usually isn't a problem, but if you run this code on another system, or in a different virtual environment, it may use a different parser and behave differently.\n\nThe code that caused this warning is on line 193 of the file C:\\Users\\Suvir Gupta\\Anaconda3\\lib\\runpy.py. To get rid of this warning, change code that looks like this:\n\n BeautifulSoup(YOUR_MARKUP})\n\nto this:\n\n BeautifulSoup(YOUR_MARKUP, \"lxml\")\n\n  markup_type=markup_type))\n"
     ]
    }
   ],
   "source": [
    "vocabulary= [preprocessing(review) for review in train_data[\"review\"]]"
   ]
  },
  {
   "cell_type": "code",
   "execution_count": 16,
   "metadata": {},
   "outputs": [],
   "source": [
    "vocabulary_flat = [word for wd_list in vocabulary for word in wd_list]"
   ]
  },
  {
   "cell_type": "code",
   "execution_count": 20,
   "metadata": {},
   "outputs": [],
   "source": [
    "vocabulary_size = 50000"
   ]
  },
  {
   "cell_type": "code",
   "execution_count": 22,
   "metadata": {},
   "outputs": [],
   "source": [
    "import collections\n",
    "def build_dataset(words, n_words):\n",
    "  \"\"\"Process raw inputs into a dataset.\"\"\"\n",
    "  count = [['UNK', -1]]\n",
    "  count.extend(collections.Counter(words).most_common(n_words - 1))\n",
    "  dictionary = dict()\n",
    "  for word, _ in count:\n",
    "    dictionary[word] = len(dictionary)\n",
    "  data = list()\n",
    "  unk_count = 0\n",
    "  for word in words:\n",
    "    if word in dictionary:\n",
    "      index = dictionary[word]\n",
    "    else:\n",
    "      index = 0  # dictionary['UNK']\n",
    "      unk_count += 1\n",
    "    data.append(index)\n",
    "  count[0][1] = unk_count\n",
    "  reversed_dictionary = dict(zip(dictionary.values(), dictionary.keys()))\n",
    "  return data, count, dictionary, reversed_dictionary"
   ]
  },
  {
   "cell_type": "code",
   "execution_count": 23,
   "metadata": {},
   "outputs": [
    {
     "name": "stdout",
     "output_type": "stream",
     "text": [
      "Most common words (+UNK) [['UNK', 16469], ('movie', 51694), ('film', 47034), ('one', 27741), ('like', 20740)]\nSample data [408, 77, 141, 8138, 519, 2372, 123, 65, 871, 451] ['stuff', 'going', 'moment', 'mj', 'started', 'listening', 'music', 'watching', 'odd', 'documentary']\n"
     ]
    }
   ],
   "source": [
    "data, count, dictionary, reverse_dictionary = build_dataset(vocabulary_flat,\n",
    "                                                            vocabulary_size)\n",
    "# del vocabulary  # Hint to reduce memory.\n",
    "print('Most common words (+UNK)', count[:5])\n",
    "print('Sample data', data[:10], [reverse_dictionary[i] for i in data[:10]])"
   ]
  },
  {
   "cell_type": "code",
   "execution_count": 26,
   "metadata": {},
   "outputs": [
    {
     "ename": "NameError",
     "evalue": "name 'vocabulary_flat' is not defined",
     "traceback": [
      "\u001b[1;31m---------------------------------------------------------------------------\u001b[0m",
      "\u001b[1;31mNameError\u001b[0m                                 Traceback (most recent call last)",
      "\u001b[1;32m<ipython-input-26-1193e3935198>\u001b[0m in \u001b[0;36m<module>\u001b[1;34m()\u001b[0m\n\u001b[1;32m----> 1\u001b[1;33m \u001b[1;32mdel\u001b[0m \u001b[0mvocabulary_flat\u001b[0m\u001b[1;33m\u001b[0m\u001b[0m\n\u001b[0m\u001b[0;32m      2\u001b[0m \u001b[0mdata_index\u001b[0m \u001b[1;33m=\u001b[0m \u001b[1;36m0\u001b[0m\u001b[1;33m\u001b[0m\u001b[0m\n",
      "\u001b[1;31mNameError\u001b[0m: name 'vocabulary_flat' is not defined"
     ],
     "output_type": "error"
    }
   ],
   "source": [
    "del vocabulary_flat"
   ]
  },
  {
   "cell_type": "code",
   "execution_count": 27,
   "metadata": {},
   "outputs": [
    {
     "name": "stdout",
     "output_type": "stream",
     "text": [
      "77 going -> 408 stuff\n77 going -> 141 moment\n141 moment -> 8138 mj\n141 moment -> 77 going\n8138 mj -> 519 started\n8138 mj -> 141 moment\n519 started -> 8138 mj\n519 started -> 2372 listening\n"
     ]
    }
   ],
   "source": [
    "data_index = 0\n",
    "import numpy as np\n",
    "import random\n",
    "def generate_batch(batch_size, num_skips, skip_window):\n",
    "  global data_index\n",
    "  assert batch_size % num_skips == 0\n",
    "  assert num_skips <= 2 * skip_window\n",
    "  batch = np.ndarray(shape=(batch_size), dtype=np.int32)\n",
    "  labels = np.ndarray(shape=(batch_size, 1), dtype=np.int32)\n",
    "  span = 2 * skip_window + 1  # [ skip_window target skip_window ]\n",
    "  buffer = collections.deque(maxlen=span)\n",
    "  if data_index + span > len(data):\n",
    "    data_index = 0\n",
    "  buffer.extend(data[data_index:data_index + span])\n",
    "  data_index += span\n",
    "  for i in range(batch_size // num_skips):\n",
    "    target = skip_window  # target label at the center of the buffer\n",
    "    targets_to_avoid = [skip_window]\n",
    "    for j in range(num_skips):\n",
    "      while target in targets_to_avoid:\n",
    "        target = random.randint(0, span - 1)\n",
    "      targets_to_avoid.append(target)\n",
    "      batch[i * num_skips + j] = buffer[skip_window]\n",
    "      labels[i * num_skips + j, 0] = buffer[target]\n",
    "    if data_index == len(data):\n",
    "      buffer[:] = data[:span]\n",
    "      data_index = span\n",
    "    else:\n",
    "      buffer.append(data[data_index])\n",
    "      data_index += 1\n",
    "  # Backtrack a little bit to avoid skipping words in the end of a batch\n",
    "  data_index = (data_index + len(data) - span) % len(data)\n",
    "  return batch, labels\n",
    "\n",
    "batch, labels = generate_batch(batch_size=8, num_skips=2, skip_window=1)\n",
    "for i in range(8):\n",
    "  print(batch[i], reverse_dictionary[batch[i]],\n",
    "        '->', labels[i, 0], reverse_dictionary[labels[i, 0]])"
   ]
  },
  {
   "cell_type": "code",
   "execution_count": 30,
   "metadata": {},
   "outputs": [],
   "source": [
    "import tensorflow as tf\n",
    "import math\n",
    "batch_size = 128\n",
    "embedding_size = 128  # Dimension of the embedding vector.\n",
    "skip_window = 1       # How many words to consider left and right.\n",
    "num_skips = 2         # How many times to reuse an input to generate a label.\n",
    "\n",
    "# We pick a random validation set to sample nearest neighbors. Here we limit the\n",
    "# validation samples to the words that have a low numeric ID, which by\n",
    "# construction are also the most frequent.\n",
    "valid_size = 16     # Random set of words to evaluate similarity on.\n",
    "valid_window = 100  # Only pick dev samples in the head of the distribution.\n",
    "valid_examples = np.random.choice(valid_window, valid_size, replace=False)\n",
    "num_sampled = 64    # Number of negative examples to sample.\n",
    "\n",
    "graph = tf.Graph()\n",
    "\n",
    "with graph.as_default():\n",
    "\n",
    "  # Input data.\n",
    "  train_inputs = tf.placeholder(tf.int32, shape=[batch_size])\n",
    "  train_labels = tf.placeholder(tf.int32, shape=[batch_size, 1])\n",
    "  valid_dataset = tf.constant(valid_examples, dtype=tf.int32)\n",
    "\n",
    "  # Ops and variables pinned to the CPU because of missing GPU implementation\n",
    "  with tf.device('/cpu:0'):\n",
    "    # Look up embeddings for inputs.\n",
    "    embeddings = tf.Variable(\n",
    "        tf.random_uniform([vocabulary_size, embedding_size], -1.0, 1.0))\n",
    "    embed = tf.nn.embedding_lookup(embeddings, train_inputs)\n",
    "\n",
    "    # Construct the variables for the NCE loss\n",
    "    nce_weights = tf.Variable(\n",
    "        tf.truncated_normal([vocabulary_size, embedding_size],\n",
    "                            stddev=1.0 / math.sqrt(embedding_size)))\n",
    "    nce_biases = tf.Variable(tf.zeros([vocabulary_size]))\n",
    "\n",
    "  # Compute the average NCE loss for the batch.\n",
    "  # tf.nce_loss automatically draws a new sample of the negative labels each\n",
    "  # time we evaluate the loss.\n",
    "  loss = tf.reduce_mean(\n",
    "      tf.nn.nce_loss(weights=nce_weights,\n",
    "                     biases=nce_biases,\n",
    "                     labels=train_labels,\n",
    "                     inputs=embed,\n",
    "                     num_sampled=num_sampled,\n",
    "                     num_classes=vocabulary_size))\n",
    "\n",
    "  # Construct the SGD optimizer using a learning rate of 1.0.\n",
    "  optimizer = tf.train.GradientDescentOptimizer(1.0).minimize(loss)\n",
    "\n",
    "  # Compute the cosine similarity between minibatch examples and all embeddings.\n",
    "  norm = tf.sqrt(tf.reduce_sum(tf.square(embeddings), 1, keep_dims=True))\n",
    "  normalized_embeddings = embeddings / norm\n",
    "  valid_embeddings = tf.nn.embedding_lookup(\n",
    "      normalized_embeddings, valid_dataset)\n",
    "  similarity = tf.matmul(\n",
    "      valid_embeddings, normalized_embeddings, transpose_b=True)\n",
    "\n",
    "  # Add variable initializer.\n",
    "  init = tf.global_variables_initializer()"
   ]
  },
  {
   "cell_type": "code",
   "execution_count": 33,
   "metadata": {},
   "outputs": [
    {
     "name": "stdout",
     "output_type": "stream",
     "text": [
      "Initialized\nAverage loss at step  0 :  269.802703857\n"
     ]
    },
    {
     "name": "stdout",
     "output_type": "stream",
     "text": [
      "Nearest to part: hack, cytown, unrewarding, dey, rubble, excised, charlton, schooling,\nNearest to pretty: terrace, gor, stephane, ing, resisted, incendiary, skogland, piglet,\nNearest to film: afgahnistan, ungrateful, pounded, hypnotizes, cortese, expelled, dispossessed, norfolk,\nNearest to however: unbeliever, phonograph, apotheosising, plodded, untalented, microfilmed, swedish, dietrichesque,\nNearest to know: lightyears, quantas, terorism, holiday, devouring, hirjee, graciela, klebold,\nNearest to life: micah, thall, blesses, bearable, summing, wave, obscura, fish,\nNearest to want: cipher, llkick, buttgereit, contraception, unstylized, azumi, fungus, olde,\nNearest to cast: geared, kaldwell, goofiness, gain, strained, misdemeanor, profess, hayter,\nNearest to around: badmitton, jivetalking, somberness, audio, certifiable, collegiate, salazar, relentlessly,\nNearest to scene: butterfield, mustachioed, hagelin, bolder, chan, subliminal, pirouette, doco,\nNearest to going: thembrians, monies, foxy, aving, bel, gotham, dare, hemmed,\nNearest to fact: bunk, fabinyi, immortel, downcast, kirin, composure, influencing, torturro,\nNearest to day: fabi, fuss, atley, stanza, shannyn, bakula, triste, special,\nNearest to another: seyrig, traverse, hitgirl, inbreed, atkins, homepage, dreary, diverting,\nNearest to look: machesney, smothering, skivvy, guez, mille, engrish, basing, slicker,\nNearest to seen: haldeman, misleading, reclusive, munter, rex, padre, squelching, tanya,\n"
     ]
    },
    {
     "name": "stdout",
     "output_type": "stream",
     "text": [
      "Average loss at step  2000 :  123.72834768\n"
     ]
    },
    {
     "name": "stdout",
     "output_type": "stream",
     "text": [
      "Average loss at step  4000 :  56.1250099983\n"
     ]
    },
    {
     "name": "stdout",
     "output_type": "stream",
     "text": [
      "Average loss at step  6000 :  35.4260886552\n"
     ]
    },
    {
     "name": "stdout",
     "output_type": "stream",
     "text": [
      "Average loss at step  8000 :  24.9882271564\n"
     ]
    },
    {
     "name": "stdout",
     "output_type": "stream",
     "text": [
      "Average loss at step  10000 :  19.0706256683\nNearest to part: hack, reliance, big, unfunny, similarly, jouissance, haunting, forgotten,"
     ]
    },
    {
     "name": "stdout",
     "output_type": "stream",
     "text": [
      "\nNearest to pretty: aside, inhabitant, suspension, edge, gallico, lugia, cinematography, terrace,\nNearest to film: movie, one, iberia, story, get, gallico, twink, series,\nNearest to however: unbeliever, seed, useless, one, swedish, citizen, provide, benoit,\nNearest to know: movie, holiday, amazing, booker, doodlebops, langley, sammi, ninja,\nNearest to life: dying, fish, wave, impending, establish, comedian, rice, route,\nNearest to want: ji, see, buttgereit, cipher, separated, huge, paine, sleeper,\nNearest to cast: evelyn, kitty, gain, strained, faithful, debut, weaker, geared,\nNearest to around: audio, relentlessly, needed, healed, sum, uncovers, badmitton, brutal,\nNearest to scene: aldolpho, kirby, claus, realism, limelight, van, shooting, langley,\nNearest to going: muppet, dare, chore, beard, zorro, base, hoon, kitten,\nNearest to fact: reverse, fabinyi, overblown, booker, ferrot, lab, contrasting, rag,\nNearest to day: special, fuss, parody, indie, outline, rocky, bakula, secretly,\nNearest to another: cyborg, delightfully, dreary, nelson, effortless, perfection, motionless, current,\nNearest to look: driven, cynical, muppet, lordi, indonesia, teacher, spelled, antonioni,\nNearest to seen: misleading, rex, booker, union, dated, geeky, brown, compared,\n"
     ]
    },
    {
     "name": "stdout",
     "output_type": "stream",
     "text": [
      "Average loss at step  12000 :  14.7325019341\n"
     ]
    },
    {
     "name": "stdout",
     "output_type": "stream",
     "text": [
      "Average loss at step  14000 :  12.6657487431\n"
     ]
    },
    {
     "name": "stdout",
     "output_type": "stream",
     "text": [
      "Average loss at step  16000 :  11.3771448934\n"
     ]
    },
    {
     "name": "stdout",
     "output_type": "stream",
     "text": [
      "Average loss at step  18000 :  8.98726285219\n"
     ]
    },
    {
     "name": "stdout",
     "output_type": "stream",
     "text": [
      "Average loss at step  20000 :  8.01617927289\nNearest to part: hack, gosha, reliance, charlton, similarly, jouissance, one, excised,\nNearest to pretty: aside, inhabitant, gallico, suspension, terrace, edge, cinematography, colony,\n"
     ]
    },
    {
     "name": "stdout",
     "output_type": "stream",
     "text": [
      "Nearest to film: movie, one, story, katana, bannister, ranko, iberia, gallico,\nNearest to however: one, unbeliever, useless, swedish, movie, UNK, invented, ashwar,\nNearest to know: holiday, camazotz, booker, get, katana, langley, doodlebops, sammi,\nNearest to life: wave, impending, establish, dying, fish, remarkable, booker, salva,\nNearest to want: ji, risqu, cipher, gosha, sleeper, registration, intriguing, see,\nNearest to cast: kitty, strained, evelyn, weaker, gain, geared, whine, debut,\nNearest to around: relentlessly, skillfully, audio, badmitton, uncovers, magna, healed, needed,\nNearest to scene: kirby, claus, film, one, also, thirdly, limelight, hickok,\nNearest to going: katana, chore, ashraf, beard, kitten, movie, muppet, dare,\nNearest to fact: reverse, bunk, fabinyi, contrasting, overblown, spoil, ashraf, booker,\nNearest to day: katana, bakula, fuss, parody, morand, special, outline, indie,\nNearest to another: delightfully, cyborg, motionless, dreary, exercise, nelson, huggins, effortless,\nNearest to look: antonioni, driven, cynical, indonesia, muppet, spelled, brat, acting,\nNearest to seen: misleading, rex, reclusive, booker, physic, geeky, operate, movie,\n"
     ]
    },
    {
     "name": "stdout",
     "output_type": "stream",
     "text": [
      "Average loss at step  22000 :  7.63324837852\n"
     ]
    },
    {
     "name": "stdout",
     "output_type": "stream",
     "text": [
      "Average loss at step  24000 :  6.99604463863\n"
     ]
    },
    {
     "name": "stdout",
     "output_type": "stream",
     "text": [
      "Average loss at step  26000 :  6.68115507483\n"
     ]
    },
    {
     "name": "stdout",
     "output_type": "stream",
     "text": [
      "Average loss at step  28000 :  6.56996431828\n"
     ]
    },
    {
     "name": "stdout",
     "output_type": "stream",
     "text": [
      "Average loss at step  30000 :  6.25620205927\nNearest to part: hack, one, reliance, gosha, charlton, similarly, jouissance, even,\nNearest to pretty: cinematography, aside, gallico, inhabitant, colony, terrace, suspension, edge,\nNearest to film: movie, one, show, also, even, story, katana, cordell,\nNearest to however: one, UNK, unbeliever, useless, cordell, movie, swedish, film,"
     ]
    },
    {
     "name": "stdout",
     "output_type": "stream",
     "text": [
      "\nNearest to know: camazotz, get, holiday, booker, movie, langley, katana, would,\nNearest to life: know, wave, prime, discussing, story, impending, deserving, establish,\nNearest to want: ji, risqu, cuties, cipher, kendrick, huge, sleeper, manipulate,\nNearest to cast: actor, strained, kitty, evelyn, gain, weaker, goofiness, wildly,\nNearest to around: skillfully, relentlessly, audio, uncovers, magna, badmitton, simulate, hayward,\nNearest to scene: sequence, kirby, claus, also, thirdly, UNK, film, limelight,\nNearest to going: katana, chore, ashraf, kitten, lamb, zorro, ew, beard,\nNearest to fact: reverse, contrasting, bunk, fabinyi, spoil, algie, booker, stronger,\nNearest to day: katana, bakula, cruder, morand, fuss, scene, one, parody,\nNearest to another: delightfully, one, craziness, motionless, regardless, many, cyborg, huggins,\nNearest to look: cordell, antonioni, homeland, muppet, bow, goodnight, seems, indonesia,\nNearest to seen: misleading, reclusive, made, rex, booker, movie, like, physic,\n"
     ]
    },
    {
     "name": "stdout",
     "output_type": "stream",
     "text": [
      "Average loss at step  32000 :  6.07955972385\n"
     ]
    },
    {
     "name": "stdout",
     "output_type": "stream",
     "text": [
      "Average loss at step  34000 :  5.9688228209\n"
     ]
    },
    {
     "name": "stdout",
     "output_type": "stream",
     "text": [
      "Average loss at step  36000 :  5.87447863722\n"
     ]
    },
    {
     "name": "stdout",
     "output_type": "stream",
     "text": [
      "Average loss at step  38000 :  5.84707620454\n"
     ]
    },
    {
     "name": "stdout",
     "output_type": "stream",
     "text": [
      "Average loss at step  40000 :  5.6943527267\n"
     ]
    },
    {
     "name": "stdout",
     "output_type": "stream",
     "text": [
      "Nearest to part: hack, one, reliance, gosha, charlton, similarly, jouissance, basically,\nNearest to pretty: really, cinematography, aside, incendiary, colony, gallico, terrace, inhabitant,\nNearest to film: movie, one, show, also, story, katana, flick, cordell,\nNearest to however: one, UNK, unbeliever, cordell, great, movie, terrible, langley,\nNearest to know: camazotz, think, get, say, holiday, booker, sediment, langley,\nNearest to life: story, world, discussing, people, remarkable, nixon, booker, time,\nNearest to want: must, cuties, risqu, ji, cipher, huge, sleeper, think,\nNearest to cast: actor, strained, kitty, also, goofiness, weaker, wildly, hayter,\nNearest to around: skillfully, mcelwee, uncovers, audio, relentlessly, simulate, magna, badmitton,\nNearest to scene: sequence, one, thing, kirby, also, claus, way, film,\nNearest to going: katana, would, go, chore, milanese, ashraf, zorro, lamb,\nNearest to fact: contrasting, reverse, much, booker, algie, radiator, stronger, spoil,\nNearest to day: cruder, katana, bakula, time, scene, morand, one, fuss,\nNearest to another: many, one, delightfully, craziness, inbreed, first, regardless, huggins,\nNearest to look: cordell, seems, feel, goodnight, antonioni, muppet, machesney, homeland,\nNearest to seen: misleading, made, haldeman, booker, reclusive, rex, letty, operate,\n"
     ]
    },
    {
     "name": "stdout",
     "output_type": "stream",
     "text": [
      "Average loss at step  42000 :  5.63245602727\n"
     ]
    },
    {
     "name": "stdout",
     "output_type": "stream",
     "text": [
      "Average loss at step  44000 :  5.5552023766\n"
     ]
    },
    {
     "name": "stdout",
     "output_type": "stream",
     "text": [
      "Average loss at step  46000 :  5.47577293563\n"
     ]
    },
    {
     "ename": "TypeError",
     "evalue": "sequence index must be integer, not 'slice'",
     "traceback": [
      "\u001b[1;31m---------------------------------------------------------------------------\u001b[0m",
      "\u001b[1;31mTypeError\u001b[0m                                 Traceback (most recent call last)",
      "\u001b[1;32m<ipython-input-33-6b9445399dd6>\u001b[0m in \u001b[0;36m<module>\u001b[1;34m()\u001b[0m\n\u001b[0;32m     10\u001b[0m   \u001b[1;32mfor\u001b[0m \u001b[0mstep\u001b[0m \u001b[1;32min\u001b[0m \u001b[0mrange\u001b[0m\u001b[1;33m(\u001b[0m\u001b[0mnum_steps\u001b[0m\u001b[1;33m)\u001b[0m\u001b[1;33m:\u001b[0m\u001b[1;33m\u001b[0m\u001b[0m\n\u001b[0;32m     11\u001b[0m     batch_inputs, batch_labels = generate_batch(\n\u001b[1;32m---> 12\u001b[1;33m         batch_size, num_skips, skip_window)\n\u001b[0m\u001b[0;32m     13\u001b[0m     \u001b[0mfeed_dict\u001b[0m \u001b[1;33m=\u001b[0m \u001b[1;33m{\u001b[0m\u001b[0mtrain_inputs\u001b[0m\u001b[1;33m:\u001b[0m \u001b[0mbatch_inputs\u001b[0m\u001b[1;33m,\u001b[0m \u001b[0mtrain_labels\u001b[0m\u001b[1;33m:\u001b[0m \u001b[0mbatch_labels\u001b[0m\u001b[1;33m}\u001b[0m\u001b[1;33m\u001b[0m\u001b[0m\n\u001b[0;32m     14\u001b[0m \u001b[1;33m\u001b[0m\u001b[0m\n",
      "\u001b[1;32m<ipython-input-27-d44ad8d3c2ca>\u001b[0m in \u001b[0;36mgenerate_batch\u001b[1;34m(batch_size, num_skips, skip_window)\u001b[0m\n\u001b[0;32m     24\u001b[0m       \u001b[0mlabels\u001b[0m\u001b[1;33m[\u001b[0m\u001b[0mi\u001b[0m \u001b[1;33m*\u001b[0m \u001b[0mnum_skips\u001b[0m \u001b[1;33m+\u001b[0m \u001b[0mj\u001b[0m\u001b[1;33m,\u001b[0m \u001b[1;36m0\u001b[0m\u001b[1;33m]\u001b[0m \u001b[1;33m=\u001b[0m \u001b[0mbuffer\u001b[0m\u001b[1;33m[\u001b[0m\u001b[0mtarget\u001b[0m\u001b[1;33m]\u001b[0m\u001b[1;33m\u001b[0m\u001b[0m\n\u001b[0;32m     25\u001b[0m     \u001b[1;32mif\u001b[0m \u001b[0mdata_index\u001b[0m \u001b[1;33m==\u001b[0m \u001b[0mlen\u001b[0m\u001b[1;33m(\u001b[0m\u001b[0mdata\u001b[0m\u001b[1;33m)\u001b[0m\u001b[1;33m:\u001b[0m\u001b[1;33m\u001b[0m\u001b[0m\n\u001b[1;32m---> 26\u001b[1;33m       \u001b[0mbuffer\u001b[0m\u001b[1;33m[\u001b[0m\u001b[1;33m:\u001b[0m\u001b[1;33m]\u001b[0m \u001b[1;33m=\u001b[0m \u001b[0mdata\u001b[0m\u001b[1;33m[\u001b[0m\u001b[1;33m:\u001b[0m\u001b[0mspan\u001b[0m\u001b[1;33m]\u001b[0m\u001b[1;33m\u001b[0m\u001b[0m\n\u001b[0m\u001b[0;32m     27\u001b[0m       \u001b[0mdata_index\u001b[0m \u001b[1;33m=\u001b[0m \u001b[0mspan\u001b[0m\u001b[1;33m\u001b[0m\u001b[0m\n\u001b[0;32m     28\u001b[0m     \u001b[1;32melse\u001b[0m\u001b[1;33m:\u001b[0m\u001b[1;33m\u001b[0m\u001b[0m\n",
      "\u001b[1;31mTypeError\u001b[0m: sequence index must be integer, not 'slice'"
     ],
     "output_type": "error"
    }
   ],
   "source": [
    "# Step 5: Begin training.\n",
    "num_steps = 100001\n",
    "\n",
    "with tf.Session(graph=graph) as session:\n",
    "  # We must initialize all variables before we use them.\n",
    "  init.run()\n",
    "  print('Initialized')\n",
    "\n",
    "  average_loss = 0\n",
    "  for step in range(num_steps):\n",
    "    batch_inputs, batch_labels = generate_batch(\n",
    "        batch_size, num_skips, skip_window)\n",
    "    feed_dict = {train_inputs: batch_inputs, train_labels: batch_labels}\n",
    "\n",
    "    # We perform one update step by evaluating the optimizer op (including it\n",
    "    # in the list of returned values for session.run()\n",
    "    _, loss_val = session.run([optimizer, loss], feed_dict=feed_dict)\n",
    "    average_loss += loss_val\n",
    "\n",
    "    if step % 2000 == 0:\n",
    "      if step > 0:\n",
    "        average_loss /= 2000\n",
    "      # The average loss is an estimate of the loss over the last 2000 batches.\n",
    "      print('Average loss at step ', step, ': ', average_loss)\n",
    "      average_loss = 0\n",
    "\n",
    "    # Note that this is expensive (~20% slowdown if computed every 500 steps)\n",
    "    if step % 10000 == 0:\n",
    "      sim = similarity.eval()\n",
    "      for i in range(valid_size):\n",
    "        valid_word = reverse_dictionary[valid_examples[i]]\n",
    "        top_k = 8  # number of nearest neighbors\n",
    "        nearest = (-sim[i, :]).argsort()[1:top_k + 1]\n",
    "        log_str = 'Nearest to %s:' % valid_word\n",
    "        for k in range(top_k):\n",
    "          close_word = reverse_dictionary[nearest[k]]\n",
    "          log_str = '%s %s,' % (log_str, close_word)\n",
    "        print(log_str)\n",
    "  final_embeddings = normalized_embeddings.eval()"
   ]
  },
  {
   "cell_type": "code",
   "execution_count": null,
   "metadata": {},
   "outputs": [],
   "source": [
    ""
   ]
  }
 ],
 "metadata": {
  "kernelspec": {
   "display_name": "Python 2",
   "language": "python",
   "name": "python2"
  },
  "language_info": {
   "codemirror_mode": {
    "name": "ipython",
    "version": 2.0
   },
   "file_extension": ".py",
   "mimetype": "text/x-python",
   "name": "python",
   "nbconvert_exporter": "python",
   "pygments_lexer": "ipython2",
   "version": "2.7.6"
  }
 },
 "nbformat": 4,
 "nbformat_minor": 0
}