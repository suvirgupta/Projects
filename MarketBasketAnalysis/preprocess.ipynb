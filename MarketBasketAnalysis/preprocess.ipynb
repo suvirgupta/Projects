{
 "cells": [
  {
   "cell_type": "code",
   "execution_count": 1,
   "metadata": {},
   "outputs": [
    {
     "name": "stdout",
     "output_type": "stream",
     "text": [
      "Welcome to\n      ____              __\n     / __/__  ___ _____/ /__\n    _\\ \\/ _ \\/ _ `/ __/  '_/\n   /__ / .__/\\_,_/_/ /_/\\_\\   version 1.6.0\n      /_/\n\nUsing Python version 2.7.13 (default, Dec 20 2016 23:09:15)\nSparkContext available as sc, HiveContext available as sqlContext.\n"
     ]
    }
   ],
   "source": [
    "import os\n",
    "import sys\n",
    "os.environ[\"SPARK_HOME\"] = \"/usr/lib/spark/\"\n",
    "os.environ[\"PYSPARK_PYTHON\"]= \"/home/cloudera/anaconda2/bin/python\"\n",
    "os.environ[\"PYSPARK_DRIVER_PYTHON\"]= \"/home/cloudera/anaconda2/bin/python\"\n",
    "os.environ[\"SPARK_YARN_USER_ENV\"]= \"/home/cloudera/anaconda2/bin/python\"\n",
    "\n",
    "spark_home = os.environ.get('SPARK_HOME', None)\n",
    "if not spark_home:\n",
    "    raise ValueError('SPARK_HOME environment variable is not set')\n",
    "sys.path.insert(0, os.path.join(spark_home, 'python'))\n",
    "sys.path.insert(0, os.path.join(spark_home, 'python/lib/py4j-0.8.1-src.zip'))\n",
    "execfile(os.path.join(spark_home, 'python/pyspark/shell.py'))\n",
    "\n",
    "from pyspark import SparkContext, SparkConf"
   ]
  },
  {
   "cell_type": "markdown",
   "metadata": {},
   "source": [
    "##### The Kaggle Instatcart Market Basket analysis has data with more than 2 million rows in orders_product_prior and other datat set also has around a milloin rows that requires manipulation using partition and parallel processing.\n",
    "##### For this reason In am using spark in jupyter and building my complete project in pycharm IDE. \n",
    "##### Created a virtual enviroment with spark libraries and anaconda python 2.7, initial settings are shown inthe first cell. \n",
    "##### Changed the 'dfs.blocksize' paramemter in the hdfs-default.xml to 64X1024X1024 bytes. \n",
    "##### This will increase parallisum in the hdfs processing for aggregating dataset in memory becomes faster.\n",
    "##### for more information check this blog http://www.bigsynapse.com/spark-input-output.\n",
    "##### Though I am using Pseudorandom distribution on cloudera quick start VM 5.8 it might not have any performance benifit as expected as machine is single but one cn try increasing the no of core and the executor memory.\n",
    "##### default driver memory given is 5g in my VM , since in local mode executor is inside the driver so can't get memory more than that.##### underline properties to configure is spark  --num-executors <is one as installation is standalone> --executor-cores <depends on core of processor> --executor-memory <Memory available to the VM>"
   ]
  },
  {
   "cell_type": "markdown",
   "metadata": {},
   "source": [
    "#### Order Schema \n",
    "##### order_id, user_id, eval_set, order_number, order_dow, order_hour_of_day, days_since_prior_orde\n",
    "##### read data with partition of three since data size of orders file is more than 110 mb we use 4 partition of size 3*32 mb\n",
    "##### 32 mb is the local file system block size in whicj data is stored\n",
    "##### 128 mb block size is the size of memory the name node referrences more 32 size blockes can be added to it.\n",
    "##### It is for the namenode to decide in which 128 mb block refrence the 32 mb block can go"
   ]
  },
  {
   "cell_type": "code",
   "execution_count": 6,
   "metadata": {
    "collapsed": true
   },
   "outputs": [],
   "source": [
    "orders = sc.textFile(\"file:///home/cloudera/Desktop/kaggle/orders.csv\", 4).filter(lambda x: 'order_id' not in x).map(lambda x : x.split(','))"
   ]
  },
  {
   "cell_type": "code",
   "execution_count": 90,
   "metadata": {},
   "outputs": [
    {
     "data": {
      "text/plain": [
       "3421083"
      ]
     },
     "execution_count": 90,
     "metadata": {},
     "output_type": "execute_result"
    }
   ],
   "source": [
    "orders.count()"
   ]
  },
  {
   "cell_type": "markdown",
   "metadata": {},
   "source": [
    "#### Order_Product_Schema\n",
    "##### order_id, Product_id, \n",
    "##### Here for we are taking the partition of 'order_products__prior' to be 18 as it is of more 550 mb \n",
    "##### similarly for 'order_products__train'  it is  default 0 partiton as the size is less than block size 32 mb"
   ]
  },
  {
   "cell_type": "code",
   "execution_count": 10,
   "metadata": {
    "collapsed": true
   },
   "outputs": [],
   "source": [
    "orders_prior = sc.textFile(\"file:///home/cloudera/Desktop/kaggle/order_products__prior.csv\", 18).filter(lambda x: 'order_id' not in x).\\\n",
    "    map(lambda x : x.split(','))\n",
    "\n",
    "orders_train = sc.textFile(\"file:///home/cloudera/Desktop/kaggle/order_products__train.csv\").filter(lambda x: 'order_id' not in x).\\\n",
    "    map(lambda x : x.split(','))"
   ]
  },
  {
   "cell_type": "code",
   "execution_count": 21,
   "metadata": {},
   "outputs": [
    {
     "data": {
      "text/plain": [
       "[[u'2', u'33120', u'1', u'1']]"
      ]
     },
     "execution_count": 21,
     "metadata": {},
     "output_type": "execute_result"
    }
   ],
   "source": [
    "orders_prior.take(1)"
   ]
  },
  {
   "cell_type": "markdown",
   "metadata": {},
   "source": [
    "##### Save all rdds created to hadoop file system in distributed fashion based on the no of the partions inthe rdd while loading "
   ]
  },
  {
   "cell_type": "code",
   "execution_count": 23,
   "metadata": {},
   "outputs": [],
   "source": [
    "orders.map(lambda x : ','.join(x)).saveAsTextFile(\"/user/cloudera/kaggle/orders\")"
   ]
  },
  {
   "cell_type": "code",
   "execution_count": 24,
   "metadata": {},
   "outputs": [],
   "source": [
    "orders_prior.map(lambda x : ','.join(x)).saveAsTextFile(\"/user/cloudera/kaggle/orders_prior\")"
   ]
  },
  {
   "cell_type": "code",
   "execution_count": 25,
   "metadata": {},
   "outputs": [],
   "source": [
    "orders_train.map(lambda x : ','.join(x)).saveAsTextFile(\"/user/cloudera/kaggle/orders_train\")"
   ]
  },
  {
   "cell_type": "code",
   "execution_count": 28,
   "metadata": {},
   "outputs": [],
   "source": [
    "## Define null prser to parse the blank strings \n",
    "def nullparse(x):\n",
    "    if x =='':\n",
    "        x=0\n",
    "    else:\n",
    "        float(x)\n",
    "    return x"
   ]
  },
  {
   "cell_type": "code",
   "execution_count": 41,
   "metadata": {},
   "outputs": [],
   "source": [
    "x= sc.textFile(\"/user/cloudera/kaggle/orders\").map(lambda x: x.split(',')).map(lambda x : (int(x[0]),(x[1],x[2],x[3],x[4],x[5],str(nullparse(x[6])))))"
   ]
  },
  {
   "cell_type": "code",
   "execution_count": 38,
   "metadata": {
    "collapsed": true
   },
   "outputs": [],
   "source": [
    "y=sc.textFile(\"/user/cloudera/kaggle/orders_prior\").map(lambda x: x.split(',')).map(lambda x : (int(x[0]), x[1]))"
   ]
  },
  {
   "cell_type": "code",
   "execution_count": 65,
   "metadata": {},
   "outputs": [],
   "source": [
    "z= sc.textFile(\"/user/cloudera/kaggle/orders_train\").map(lambda x: x.split(',')).map(lambda x : (int(x[0]), x[1]))"
   ]
  },
  {
   "cell_type": "code",
   "execution_count": 43,
   "metadata": {
    "collapsed": true
   },
   "outputs": [],
   "source": [
    "x.filter(lambda x : x[1][1]!=\"test\").mapValues(lambda x : x[5]).reduceByKey(lambda x,y : x+y).\\\n",
    "    sortBy(lambda x : -x[1]).take(3)"
   ]
  },
  {
   "cell_type": "markdown",
   "metadata": {},
   "source": [
    "##### Combine all products purchased for a perticular order id in one string sperated by space for order_product_prior data set."
   ]
  },
  {
   "cell_type": "code",
   "execution_count": 45,
   "metadata": {
    "collapsed": true
   },
   "outputs": [
    {
     "data": {
      "text/plain": [
       "[(3145734, u'45223 32740 46616 8230 6975 47668 3582'),\n (2621448, u'37718 38544 2748 47209 45504 28699 8006 41665 2078 35887'),\n (2097162, u'48988 37774 24852 19057')]"
      ]
     },
     "execution_count": 45,
     "metadata": {},
     "output_type": "execute_result"
    }
   ],
   "source": [
    "y.groupByKey().mapValues(lambda x : ' '.join(x)).take(3)"
   ]
  },
  {
   "cell_type": "markdown",
   "metadata": {},
   "source": [
    "##### Save the intermediate result to the HDFS to reduce the time for further agregations"
   ]
  },
  {
   "cell_type": "code",
   "execution_count": 52,
   "metadata": {},
   "outputs": [],
   "source": [
    "y.groupByKey().mapValues(lambda x : ' '.join(x)).map(lambda x : (str(x[0]),x[1])).map(lambda x : ','.join(x)).saveAsTextFile(\"/user/cloudera/kaggle/order_prior_inter\")"
   ]
  },
  {
   "cell_type": "code",
   "execution_count": 53,
   "metadata": {
    "collapsed": true
   },
   "outputs": [],
   "source": [
    "order_prod_prio_inter = sc.textFile(\"/user/cloudera/kaggle/order_prior_inter\").map(lambda x: x.split(','))"
   ]
  },
  {
   "cell_type": "code",
   "execution_count": 54,
   "metadata": {},
   "outputs": [
    {
     "data": {
      "text/plain": [
       "[[u'3145734', u'45223 32740 46616 8230 6975 47668 3582'],\n [u'2621448', u'37718 38544 2748 47209 45504 28699 8006 41665 2078 35887']]"
      ]
     },
     "execution_count": 54,
     "metadata": {},
     "output_type": "execute_result"
    }
   ],
   "source": [
    "order_prod_prio_inter.take(2)"
   ]
  },
  {
   "cell_type": "code",
   "execution_count": 57,
   "metadata": {
    "collapsed": true
   },
   "outputs": [
    {
     "data": {
      "text/plain": [
       "[(3145734, u'45223 32740 46616 8230 6975 47668 3582'),\n (2621448, u'37718 38544 2748 47209 45504 28699 8006 41665 2078 35887'),\n (2097162, u'48988 37774 24852 19057')]"
      ]
     },
     "execution_count": 57,
     "metadata": {},
     "output_type": "execute_result"
    }
   ],
   "source": [
    "order_prod_prio_inter.map(lambda x : (int(x[0]),x[1])).take(3)"
   ]
  },
  {
   "cell_type": "code",
   "execution_count": 58,
   "metadata": {
    "collapsed": true
   },
   "outputs": [
    {
     "data": {
      "text/plain": [
       "[(2883584,\n  ((u'78882', u'prior', u'1', u'3', u'20', '0'), u'43860 12249 34862')),\n (786434,\n  ((u'29232', u'prior', u'16', u'0', u'12', '4.0'),\n   u'29734 20847 4812 5491 31433 30192 45045 49628 38192 34134 26790 6891 7952 37658 28204 5194 22825 26346 32743 1158 18200 39977')),\n (1572868, ((u'14938', u'prior', u'7', u'0', u'14', '3.0'), u'21903'))]"
      ]
     },
     "execution_count": 58,
     "metadata": {},
     "output_type": "execute_result"
    }
   ],
   "source": [
    "x.join(order_prod_prio_inter.map(lambda x : (int(x[0]),x[1]))).take(3)"
   ]
  },
  {
   "cell_type": "code",
   "execution_count": 61,
   "metadata": {
    "collapsed": true
   },
   "outputs": [],
   "source": [
    "x.join(order_prod_prio_inter.map(lambda x : (int(x[0]),x[1]))).mapValues(lambda x : x[0]+(x[1],)).map(lambda x : (str(x[0]), x[1])).\\\n",
    "map(lambda x : (x[0],) + x[1]).map(lambda x : ','.join(x)).saveAsTextFile(\"/user/cloudera/kaggle/order_product_prior_joined\")"
   ]
  },
  {
   "cell_type": "markdown",
   "metadata": {},
   "source": [
    "####order_product_prior_join Schema\n",
    "##### order_id, user_id, eval_set, order_number, order_dow, order_hour_of_day, days_since_prior_order, all_purch_prod \n"
   ]
  },
  {
   "cell_type": "code",
   "execution_count": 64,
   "metadata": {},
   "outputs": [
    {
     "data": {
      "text/plain": [
       "[[u'2883584',\n  u'78882',\n  u'prior',\n  u'1',\n  u'3',\n  u'20',\n  u'0',\n  u'43860 12249 34862'],\n [u'786434',\n  u'29232',\n  u'prior',\n  u'16',\n  u'0',\n  u'12',\n  u'4.0',\n  u'29734 20847 4812 5491 31433 30192 45045 49628 38192 34134 26790 6891 7952 37658 28204 5194 22825 26346 32743 1158 18200 39977']]"
      ]
     },
     "execution_count": 64,
     "metadata": {},
     "output_type": "execute_result"
    }
   ],
   "source": [
    "sc.textFile(\"/user/cloudera/kaggle/order_product_prior_joined\").map(lambda x : x.split(',')).take(2)"
   ]
  },
  {
   "cell_type": "code",
   "execution_count": 75,
   "metadata": {},
   "outputs": [
    {
     "data": {
      "text/plain": [
       "[(1572864,\n  u'19204 39698 48290 32000 40463 20682 13176 11526 33890 5025 14161 9387 13931 33198 43123 45351 5618'),\n (1, u'49302 11109 10246 49683 43633 13176 47209 22035'),\n (2359297, u'21781 4421 39009 36431 30233 5097 47209 28427 2513')]"
      ]
     },
     "execution_count": 75,
     "metadata": {},
     "output_type": "execute_result"
    }
   ],
   "source": [
    "z.groupByKey().mapValues(lambda x : ' '.join(x)).take(3)"
   ]
  },
  {
   "cell_type": "markdown",
   "metadata": {},
   "source": [
    "##### Now lets create joined data set for order_product_train and the orders, this wont take much time as train data set is small and we can filter the orders data set for train only  "
   ]
  },
  {
   "cell_type": "code",
   "execution_count": 77,
   "metadata": {},
   "outputs": [],
   "source": [
    "x.filter(lambda x : x[1][1]=='train').join(z.groupByKey().mapValues(lambda x : ' '.join(x))).mapValues(lambda x : x[0]+(x[1],)).map(lambda x : (str(x[0]), x[1])).\\\n",
    "map(lambda x : (x[0],) + x[1]).map(lambda x : ','.join(x)).saveAsTextFile(\"/user/cloudera/kaggle/order_product_train_joined\")"
   ]
  },
  {
   "cell_type": "markdown",
   "metadata": {},
   "source": [
    "#### order_product_train_join Schema\n",
    "##### order_id, user_id, eval_set, order_number, order_dow, order_hour_of_day, days_since_prior_order, all_purch_prod"
   ]
  },
  {
   "cell_type": "code",
   "execution_count": 81,
   "metadata": {},
   "outputs": [
    {
     "data": {
      "text/plain": [
       "[u'1441800,23471,train,6,2,16,30.0,21713 24852 28204 3804 25544 8645 10916 29487 28634 17008',\n u'2621450,161225,train,25,4,13,30.0,46061',\n u'1703950,50594,train,4,4,12,30.0,19029 23594 8224 26882 18135 39922 38419 7042']"
      ]
     },
     "execution_count": 81,
     "metadata": {},
     "output_type": "execute_result"
    }
   ],
   "source": [
    "sc.textFile(\"/user/cloudera/kaggle/order_product_train_joined\").take(3)"
   ]
  },
  {
   "cell_type": "code",
   "execution_count": 82,
   "metadata": {},
   "outputs": [],
   "source": [
    "joined_train = sc.textFile(\"/user/cloudera/kaggle/order_product_train_joined\")"
   ]
  },
  {
   "cell_type": "code",
   "execution_count": 83,
   "metadata": {},
   "outputs": [],
   "source": [
    "joined_prior =  sc.textFile(\"/user/cloudera/kaggle/order_product_prior_joined\")"
   ]
  },
  {
   "cell_type": "code",
   "execution_count": 89,
   "metadata": {},
   "outputs": [
    {
     "data": {
      "text/plain": [
       "0"
      ]
     },
     "execution_count": 89,
     "metadata": {},
     "output_type": "execute_result"
    }
   ],
   "source": [
    "joined_prior.map(lambda x : x.split(',')).map(lambda x : (int(x[0], int(x[1],int))))"
   ]
  },
  {
   "cell_type": "code",
   "execution_count": 93,
   "metadata": {},
   "outputs": [],
   "source": [
    "subset_rdd_prior= sc.parallelize(joined_prior.take(10000))"
   ]
  },
  {
   "cell_type": "code",
   "execution_count": 106,
   "metadata": {},
   "outputs": [
    {
     "data": {
      "text/plain": [
       "[u'2883584,78882,prior,1,3,20,0,43860 12249 34862',\n u'786434,29232,prior,16,0,12,4.0,29734 20847 4812 5491 31433 30192 45045 49628 38192 34134 26790 6891 7952 37658 28204 5194 22825 26346 32743 1158 18200 39977']"
      ]
     },
     "execution_count": 106,
     "metadata": {},
     "output_type": "execute_result"
    }
   ],
   "source": [
    "subset_rdd_prior.take(2)"
   ]
  },
  {
   "cell_type": "markdown",
   "metadata": {},
   "source": [
    "#### Combined Prior Order History Grouped by user\n",
    "##### Now we have the combined data set based on the user from which we have to find insights "
   ]
  },
  {
   "cell_type": "code",
   "execution_count": 113,
   "metadata": {},
   "outputs": [
    {
     "data": {
      "text/plain": [
       "[(65538,\n  ((u'2886687',\n    u'2295459',\n    u'2982586',\n    u'3279300',\n    u'1458602',\n    u'2531850',\n    u'1564378',\n    u'1357315',\n    u'848742',\n    u'2174616',\n    u'1726630',\n    u'1847851',\n    u'622275',\n    u'2094779',\n    u'2102018',\n    u'1983262',\n    u'2105407',\n    u'1383433',\n    u'1410274',\n    u'499386',\n    u'609586',\n    u'1524281',\n    u'740091',\n    u'929490',\n    u'941612',\n    u'1063186',\n    u'3158598',\n    u'764140',\n    u'1384101',\n    u'476843',\n    u'3115083',\n    u'2509776',\n    u'1878663',\n    u'1153279',\n    u'3041583',\n    u'1888147',\n    u'322077',\n    u'2397932',\n    u'2691303',\n    u'3106399'),\n   (u'15',\n    u'28',\n    u'1',\n    u'24',\n    u'27',\n    u'30',\n    u'35',\n    u'8',\n    u'36',\n    u'13',\n    u'31',\n    u'5',\n    u'32',\n    u'34',\n    u'21',\n    u'37',\n    u'18',\n    u'16',\n    u'40',\n    u'17',\n    u'26',\n    u'9',\n    u'7',\n    u'38',\n    u'23',\n    u'14',\n    u'33',\n    u'29',\n    u'6',\n    u'22',\n    u'11',\n    u'4',\n    u'25',\n    u'20',\n    u'39',\n    u'12',\n    u'10',\n    u'3',\n    u'19',\n    u'2'),\n   (u'5',\n    u'6',\n    u'0',\n    u'2',\n    u'1',\n    u'1',\n    u'0',\n    u'3',\n    u'4',\n    u'0',\n    u'0',\n    u'5',\n    u'6',\n    u'0',\n    u'6',\n    u'2',\n    u'3',\n    u'0',\n    u'5',\n    u'2',\n    u'3',\n    u'0',\n    u'5',\n    u'0',\n    u'3',\n    u'0',\n    u'2',\n    u'3',\n    u'5',\n    u'1',\n    u'4',\n    u'1',\n    u'0',\n    u'0',\n    u'0',\n    u'0',\n    u'2',\n    u'6',\n    u'0',\n    u'3'),\n   (u'12.0',\n    u'5.0',\n    u'0',\n    u'6.0',\n    u'5.0',\n    u'12.0',\n    u'7.0',\n    u'5.0',\n    u'4.0',\n    u'7.0',\n    u'6.0',\n    u'4.0',\n    u'6.0',\n    u'5.0',\n    u'6.0',\n    u'5.0',\n    u'8.0',\n    u'9.0',\n    u'5.0',\n    u'23.0',\n    u'10.0',\n    u'11.0',\n    u'14.0',\n    u'5.0',\n    u'2.0',\n    u'28.0',\n    u'10.0',\n    u'11.0',\n    u'7.0',\n    u'2.0',\n    u'9.0',\n    u'9.0',\n    u'5.0',\n    u'0.0',\n    u'14.0',\n    u'3.0',\n    u'30.0',\n    u'3.0',\n    u'4.0',\n    u'24.0'),\n   (u'9934 49235 39928 1511 28204',\n    u'37220 13176 28204 42265 7751 48416 34942 21603 21108 3376 44359 39558 27104 39984 22935 39921 34635 42701',\n    u'1511 18523 9934 47209 44473 4920 13740 40910 21290 21137 44275 49235 28204 4793 33497 10895 41950 25072 48230 28993 5194 38313 42383 15700 5077 39921 2450 35108 31263 43789 21903 41544 18610 49174 21461 30336 39928 37220 17979',\n    u'18200 38383 39561 12144 37220 13740 44359 47766 17484 42265 1511 2770 5194 25072 22170 24841',\n    u'1511 21137 24852 4920 2452 2770 3599 22474 34448 31869 49235 25072 6552 8056 28204',\n    u'2770 13176 28204 4920 47766 26790 2452 44275 44375 25072 5194 39921 18610 42265 22170 21137 10761 26344 1896 10132 45840 44116 4138 9092 33198 4957 31869 43442 3481 23543 6631 21019 31040 41787 36772 27104 46720 27663 3376 32906 5876 2447',\n    u'18696 28849 14267 13176 47766 2770 1511 49235 40516 40706 30391 3989',\n    u'2770 1511 21137 5194 44275 47209 44473 40910 28204 2452 38313 895 25072 22170 39921 33135 3481 18610 18523 35108 36036 16093 48720 21019 1896 26344',\n    u'13176 19677 28204 47209 48679 15040 784 10163 44422',\n    u'37029 48230 2450 49235 5194',\n    u'49235 47766 13176 21137 40706 20536 44035 43789 4056 10948',\n    u'49235 10749 44359 39275 21137 26209 28842 33746 3376',\n    u'1511 11736 8988 30391 44359 19677 19057 21137 44422 21938 2295 13212',\n    u'9934 5077 1511 37067 47766 45066 2452 39928 24841 26790 42265 31040 27104 1999',\n    u'44912',\n    u'9934 1511 24891 49235 31040 13176 32175 21603',\n    u'4920 49235 1511',\n    u'28985 32175 12916 45066 26790 12144 13740 4793 42265 39928 1511 44275 18610 35108',\n    u'21290 13380 1511 13176 34448',\n    u'26790 13740 38453 4920 44359 47766 42265 1511 44275 44473 2452 1896 26344',\n    u'1511 47766 13176 49235 2770 44275 28204 19048 581 34448 3599 26790 16145 8670 47626 28985',\n    u'34551 3481 35108 24841 1896 26344 38641 21461 35045 49174 9808 1700 12980 6873 39430 14267',\n    u'2770 47209 34023 28849 3376 1999 5818 19678 31343 16570 39928 28204 12254 38274',\n    u'47766 28204 2770 13740',\n    u'22474 15143 44375 10761 13740 49235 25072 18610',\n    u'9598 4138 10761 42383 13740 24561 22935 4920 44359 10132 1511 44275 2452 895 28204 3481 1896 26344',\n    u'49235 37067 8277 47209 5077 33746 8006 45007 23400 5818 19677 22504 23543 6647 39928 31263 13740 39561 25072 18523 37220',\n    u'24891 1511 13176 47766 48679 44375 21108 22825 4920 39928',\n    u'1511 21137 5194 49235 44275 44473 6631 2452 38313 40910 895 39921 22170 20327 10132 24841 39928 9076 21543 12204 3481 47766 17484 36772 18610 1896',\n    u'41220 27104 24964 1511 21461 49174',\n    u'34448 22888 10761 9595 48230 32293 22935 45535 4920 44359 10132 1511 21137 22170',\n    u'1511 21137 5194 4920 44275 33497 9934 38313 28204 25072 4793 44473 895 40910 2452 39921 22170 20327 18610 7806 2081 4659 47766 17484 39781',\n    u'45066 24852 2770 20995 31343 1999 18479 38562',\n    u'37119 22888 44375 10895 48230 28993 2450 32293 1511 22170 39921 18610 35108 12980',\n    u'1511 13176 47766 2770 49235 13740 24891 2452 9934 42265 4920 44275 10132 18523 23543 4957 11736 22888 6873 10895 12980 2450 4163 48325 42383 2651',\n    u'13740',\n    u'4920 4793 21137 44275 38313 1896 38641 26344',\n    u'24964 22935 43076 19519 45535 38274',\n    u'40604 34126 22474 4138 33198 44375 41220 27104 24964 31343 1511 25072 18610 35108 21461 49174',\n    u'1511 21137 5194 2770 44275 4920 13740 47209 6631 38313 25072 4793 28204 21290 895 38453 32293 33135 39928 24841 24561 17484'))),\n (131076,\n  ((u'1571507',\n    u'126218',\n    u'2521666',\n    u'1377998',\n    u'3342908',\n    u'2382639',\n    u'104738'),\n   (u'5', u'6', u'3', u'4', u'2', u'7', u'1'),\n   (u'6', u'2', u'4', u'2', u'3', u'2', u'2'),\n   (u'11.0', u'24.0', u'22.0', u'30.0', u'29.0', u'30.0', u'0'),\n   (u'24954 34642 17758 1559 13351 18926 40571 24177 694 14917 42567 26293 21412 41458',\n    u'24954 22367 1559 13351 18926 24177 14917 17758 5994 16185 32403',\n    u'24852 24954 22367 1559 18926 13351 24177 14917 32403 17758 5994',\n    u'24954 13351 24177 1559 14917 40571 26706 17758 28431 45066 11782 4600 15579 30994 28230 32403 5994 18594 47766',\n    u'24954 22367 1559 18926 24177 13351 8061 14917 24852 15579 26706 14036 16185 47766 19173',\n    u'13351 18926 22367 14917 3789 32403 26293 37103 37524 45066',\n    u'15579 24954 22367 13351 24177 18926 1559 14917 14267 6348 1711 8061 24852 23192 9177 36506 3330 26629 16460'))),\n (196614,\n  ((u'2205632',\n    u'1423334',\n    u'41889',\n    u'1584795',\n    u'1290127',\n    u'127164',\n    u'2280240',\n    u'1085839',\n    u'1443851'),\n   (u'9', u'8', u'2', u'3', u'7', u'6', u'1', u'5', u'4'),\n   (u'0', u'2', u'6', u'5', u'2', u'4', u'1', u'2', u'6'),\n   (u'12.0', u'30.0', u'5.0', u'13.0', u'26.0', u'16.0', u'0', u'3.0', u'8.0'),\n   (u'35274 20779 33671 17615 46853 29625 28906 40470 22497',\n    u'44987 38514 15104 19249 2297 34649',\n    u'10181 7693 49520 1831 31964 2717 39945 12679 29127',\n    u'31964 2717 12919 1831 3583 27275 12576 20711 26251 34362 12228 21564 45787 23592 43891',\n    u'24286 46724 3829 30857 14182 16295 7736 44042 5259 44843 1200 19076 15042 8016 46900 22656 7571 3229 43567 20779 21255',\n    u'30054 2970 11690 24823',\n    u'19141 30507 35359 15088 19249',\n    u'26251 44987 24823',\n    u'38458 48672 280'))),\n (32780,\n  ((u'901142',\n    u'1025112',\n    u'1041458',\n    u'1314151',\n    u'71041',\n    u'1783125',\n    u'2590349',\n    u'605488',\n    u'2871004',\n    u'1161913',\n    u'940241',\n    u'888476',\n    u'2213910',\n    u'1188094',\n    u'3392054',\n    u'333989',\n    u'1223405',\n    u'2681830',\n    u'96412',\n    u'3028616',\n    u'671668',\n    u'1254910',\n    u'246056',\n    u'1300142',\n    u'952323',\n    u'2023525',\n    u'3362159',\n    u'2177350',\n    u'1462526',\n    u'2138477',\n    u'1947121',\n    u'144683',\n    u'1014343',\n    u'1862004',\n    u'382548',\n    u'204744',\n    u'273825',\n    u'144685',\n    u'3394437',\n    u'196231',\n    u'745286',\n    u'1054123',\n    u'2389326',\n    u'575140',\n    u'1917954',\n    u'1015316',\n    u'3329343',\n    u'3029593',\n    u'1299646',\n    u'2448949',\n    u'1268649',\n    u'1860582',\n    u'2715722',\n    u'1071817',\n    u'1905199'),\n   (u'13',\n    u'16',\n    u'9',\n    u'29',\n    u'26',\n    u'1',\n    u'4',\n    u'6',\n    u'3',\n    u'53',\n    u'36',\n    u'14',\n    u'54',\n    u'47',\n    u'30',\n    u'11',\n    u'37',\n    u'20',\n    u'48',\n    u'39',\n    u'18',\n    u'43',\n    u'8',\n    u'25',\n    u'55',\n    u'19',\n    u'40',\n    u'21',\n    u'32',\n    u'12',\n    u'5',\n    u'44',\n    u'17',\n    u'46',\n    u'49',\n    u'31',\n    u'42',\n    u'28',\n    u'10',\n    u'23',\n    u'24',\n    u'50',\n    u'33',\n    u'27',\n    u'52',\n    u'45',\n    u'41',\n    u'34',\n    u'38',\n    u'7',\n    u'22',\n    u'35',\n    u'51',\n    u'15',\n    u'2'),\n   (u'5',\n    u'4',\n    u'0',\n    u'2',\n    u'6',\n    u'5',\n    u'2',\n    u'6',\n    u'5',\n    u'6',\n    u'4',\n    u'2',\n    u'6',\n    u'5',\n    u'0',\n    u'1',\n    u'3',\n    u'4',\n    u'5',\n    u'6',\n    u'4',\n    u'4',\n    u'2',\n    u'5',\n    u'0',\n    u'6',\n    u'2',\n    u'0',\n    u'4',\n    u'4',\n    u'4',\n    u'6',\n    u'1',\n    u'4',\n    u'5',\n    u'5',\n    u'5',\n    u'1',\n    u'6',\n    u'4',\n    u'0',\n    u'5',\n    u'0',\n    u'3',\n    u'2',\n    u'6',\n    u'6',\n    u'3',\n    u'4',\n    u'3',\n    u'4',\n    u'3',\n    u'6',\n    u'0',\n    u'2'),\n   (u'8.0',\n    u'4.0',\n    u'5.0',\n    u'8.0',\n    u'1.0',\n    u'0',\n    u'18.0',\n    u'2.0',\n    u'3.0',\n    u'4.0',\n    u'8.0',\n    u'4.0',\n    u'7.0',\n    u'8.0',\n    u'5.0',\n    u'2.0',\n    u'6.0',\n    u'12.0',\n    u'7.0',\n    u'2.0',\n    u'10.0',\n    u'6.0',\n    u'13.0',\n    u'5.0',\n    u'1.0',\n    u'2.0',\n    u'3.0',\n    u'17.0',\n    u'6.0',\n    u'3.0',\n    u'9.0',\n    u'2.0',\n    u'4.0',\n    u'12.0',\n    u'7.0',\n    u'12.0',\n    u'6.0',\n    u'5.0',\n    u'6.0',\n    u'7.0',\n    u'3.0',\n    u'7.0',\n    u'3.0',\n    u'4.0',\n    u'10.0',\n    u'14.0',\n    u'4.0',\n    u'10.0',\n    u'15.0',\n    u'4.0',\n    u'4.0',\n    u'7.0',\n    u'1.0',\n    u'5.0',\n    u'18.0'),\n   (u'3957 13380 14072 1378 13176',\n    u'13380 1378 13176 3957 15579 42864 44841 37524 31995 47209 32665 22935 45007 41065 8518 21334',\n    u'3957 13380',\n    u'1378 22935 45007 41065 13380',\n    u'41220 40706 40054 18503',\n    u'14072 1378 8518 15579 46755 6235 42585 47008',\n    u'3957 1378 6235 15579 21938',\n    u'25256 22553 6235',\n    u'45007 15579 22935 41065 34126 18479 26940 4796 21334 38299 7021',\n    u'31717 13049 48775 26209 4210',\n    u'17948 20549 3957 13176 22935',\n    u'1378 22935 13176 2228 3957',\n    u'21137 13380 26209 3957 45223 46206',\n    u'24852 25095 10341 13380',\n    u'38772 16290 18479 22553 22935 8518',\n    u'13380 14072 22935 15579 18918',\n    u'21137 13176',\n    u'3957 8518 13380',\n    u'25256 3957 13176 21137',\n    u'40706 18918 18587 25095 13176',\n    u'3957 1378 15579 22935 14072 13380 42864',\n    u'32665 10341 46900 46206 25095 34881',\n    u'6235 14072 1378 13380 3957 15579 40706 40054 18503',\n    u'17948 1378 13176 3957',\n    u'47626 22488 21903 6235',\n    u'20995 3957 13176 42864',\n    u'42450 13380 34881',\n    u'13176 1378 3957 14072 13380',\n    u'21137 22553 13176 3957 13380',\n    u'13380 3957',\n    u'6235 22935 1378 15579 3957 13176 47029',\n    u'9224 38647 32935 22553 27966',\n    u'18963 39693 42527 14072 13380 42864',\n    u'3957 13380 10341',\n    u'47008 32665 24852 3957 25095',\n    u'21137 20995 13176 3957 13380',\n    u'13176 13380 25095 34881 23165 22935 16759 34126 21137 6235 21670',\n    u'43821 22553 13176 3957',\n    u'3957 1378 41065 45007 22935 13176 47029 31662',\n    u'3957 13176 1378 15579 13380',\n    u'45061 44359 19678 18479 22553 18503 22935',\n    u'3957 13176 25095 21137 1378 14072 13380 39275',\n    u'16752 36036 3957 32665',\n    u'45061 16290 16752 17948 1378 13176 32665 13380',\n    u'35328 26209 3957 14072 10341 13380',\n    u'24852 3957 13380 14072',\n    u'32665 27086 18159 31717 32177',\n    u'21137 1378 13176 32665',\n    u'13212 31506 3957 35725 2124 22935 1378',\n    u'3957 6235 1378',\n    u'45061 22553 3957 14072 13380',\n    u'21137 16752 36036 3957 13176',\n    u'10341 3957 14072',\n    u'1378 13380 42864 14072',\n    u'14072 13380 3957 6235 1378 15579 22935 45007 41065'))),\n (98318,\n  ((u'3101365',\n    u'637456',\n    u'1489868',\n    u'490782',\n    u'2744925',\n    u'1571995',\n    u'125041'),\n   (u'6', u'7', u'1', u'5', u'4', u'2', u'3'),\n   (u'0', u'6', u'3', u'6', u'5', u'6', u'0'),\n   (u'1.0', u'13.0', u'0', u'1.0', u'5.0', u'30.0', u'30.0'),\n   (u'30731 33086 23500 5011 9020',\n    u'15404 6680 19003 32446 27841 42625',\n    u'2966 44666 39275',\n    u'23165 45656 16349',\n    u'27663 9076 14161 13176 19086 44870 43886 7751 47766 17316 36011 2855',\n    u'3274 44142 10732 40332',\n    u'11418 13485 34358'))),\n (163856,\n  ((u'2356203',\n    u'788575',\n    u'539450',\n    u'2660910',\n    u'617772',\n    u'620259',\n    u'1129581',\n    u'937371'),\n   (u'7', u'5', u'3', u'1', u'4', u'2', u'8', u'6'),\n   (u'2', u'2', u'3', u'2', u'5', u'2', u'4', u'0'),\n   (u'2.0', u'4.0', u'30.0', u'0', u'2.0', u'7.0', u'9.0', u'12.0'),\n   (u'31717 21137 32177 41290',\n    u'11777 16083 47766 160 44910',\n    u'20114 2089 16797 39275 11777 40604 41999',\n    u'24964 32163 13819 21137',\n    u'33443 40765 7645 24759 26209 46654 39275 35321',\n    u'21903 40604 27344 35140 2604',\n    u'10017 40545 2228 46802 17948',\n    u'16083 11777 47766 2228 46802 19048 45007 40706 46738 29740 43713 39275 40604 11845 33443 41999 13819 5876 8277 20114 8518 20842 8087 44632 40545 21903 30391 35951'))),\n (22,\n  ((u'1766930',\n    u'3227049',\n    u'1014994',\n    u'2922708',\n    u'3393222',\n    u'2455079',\n    u'3090814',\n    u'2327987',\n    u'634494',\n    u'144358',\n    u'2780464',\n    u'2647850',\n    u'1219654',\n    u'194741',\n    u'2300537'),\n   (u'13',\n    u'10',\n    u'9',\n    u'4',\n    u'5',\n    u'7',\n    u'14',\n    u'6',\n    u'8',\n    u'2',\n    u'11',\n    u'15',\n    u'3',\n    u'12',\n    u'1'),\n   (u'5',\n    u'3',\n    u'5',\n    u'3',\n    u'5',\n    u'6',\n    u'1',\n    u'1',\n    u'5',\n    u'3',\n    u'5',\n    u'4',\n    u'0',\n    u'0',\n    u'3'),\n   (u'5.0',\n    u'5.0',\n    u'28.0',\n    u'30.0',\n    u'16.0',\n    u'5.0',\n    u'3.0',\n    u'17.0',\n    u'13.0',\n    u'30.0',\n    u'2.0',\n    u'30.0',\n    u'4.0',\n    u'2.0',\n    u'0'),\n   (u'13176 32655 22935 21903 4217',\n    u'21903 27845 22935',\n    u'49533 32655',\n    u'22935',\n    u'4421 27845 13176 17794 2452',\n    u'22935 24964 13176',\n    u'35221 24964 7948 24506',\n    u'35221 2452',\n    u'13176 17794 22935 5212 27171 7948 16987 32096 36311 7088 22115 8518 5450 41950',\n    u'27845 21903 24964 22963 36724 16987',\n    u'32655 24506 21903 39040 8518 22935 15392 14678 14966',\n    u'27845 17794 22963',\n    u'32096 27845',\n    u'24964 32096 22935 14966',\n    u'22935 44968 44359 15984 38312 27845'))),\n (65560,\n  ((u'3040775',\n    u'672300',\n    u'3265442',\n    u'2315822',\n    u'1932057',\n    u'2595643',\n    u'1709091'),\n   (u'7', u'1', u'3', u'2', u'4', u'5', u'6'),\n   (u'1', u'3', u'3', u'3', u'3', u'0', u'1'),\n   (u'7.0', u'0', u'30.0', u'30.0', u'7.0', u'4.0', u'8.0'),\n   (u'31557 8193 49683 4920 35628 5025 24852 45066 12614 17630 38996 28199 8555 37766 28050',\n    u'49683 45066 21077 47630 2295',\n    u'45066 24852 28199 33055 21077 12614 22867 35855 35628 17630',\n    u'31557 13004 47788',\n    u'45066 5025 47766 12614 36923 13004 28199 17630 29487',\n    u'15902 30305 17794',\n    u'8193 24852 45066 4605 31557 17630 30305 21077 23579 41972 15937'))),\n (131098,\n  ((u'307363',\n    u'834263',\n    u'24421',\n    u'315132',\n    u'3255697',\n    u'2908011',\n    u'953051',\n    u'571287',\n    u'1983184'),\n   (u'3', u'9', u'1', u'6', u'4', u'2', u'5', u'7', u'8'),\n   (u'2', u'6', u'0', u'0', u'6', u'6', u'0', u'6', u'5'),\n   (u'30.0',\n    u'15.0',\n    u'0',\n    u'7.0',\n    u'11.0',\n    u'27.0',\n    u'8.0',\n    u'13.0',\n    u'13.0'),\n   (u'47481 16823 5373 9327 43262 10151 26298 365 7158 24852 39563 31387 46113',\n    u'39046 27196 7158 36179 18019',\n    u'29003 34523 47626 5857 24235 30849 24852 45860 26604',\n    u'26298 39581 47626 24852 45860 36179 26604 5031 30849 41950',\n    u'26298 34523 24852 10151 7158 365 31387 39581 16823 26604 47481 36179 22935 23995',\n    u'24852 26298 34523 47626 36011 41844 38444 10151 26604',\n    u'24852 34523 26298 47626 7158 29003 45860 46189 27828 21938 34358 2120 39462 42625',\n    u'24852 34523 26298 39581 7158 46189 29003 26604 45860 365 47481 31387 22935 16823 4091 10151',\n    u'26298 10151 29003 26604 24852 34523 16797 31387 47626 15130 35134 37229'))),\n (196636,\n  ((u'2174832',\n    u'174680',\n    u'2292513',\n    u'810418',\n    u'2399610',\n    u'3037874',\n    u'2265608',\n    u'2336360',\n    u'549169',\n    u'1688989',\n    u'3006789',\n    u'1433635',\n    u'1434031',\n    u'312141',\n    u'1058580',\n    u'910124',\n    u'1677595',\n    u'1987069',\n    u'3244831',\n    u'2363556',\n    u'865995',\n    u'2499803',\n    u'3173179',\n    u'2263545',\n    u'2791743',\n    u'678291',\n    u'175966',\n    u'2972496',\n    u'1064150',\n    u'2942554',\n    u'2733048',\n    u'2934702',\n    u'1726594',\n    u'453015',\n    u'754767',\n    u'3207592',\n    u'1715068',\n    u'2715827',\n    u'1711879',\n    u'1303625',\n    u'1646320',\n    u'2958202',\n    u'123656',\n    u'1849777',\n    u'856565',\n    u'2799121',\n    u'3124941',\n    u'508636',\n    u'1034040',\n    u'2426861',\n    u'2043797',\n    u'1808617',\n    u'485384',\n    u'2948438',\n    u'2600970',\n    u'810369',\n    u'2036011'),\n   (u'40',\n    u'23',\n    u'41',\n    u'55',\n    u'22',\n    u'20',\n    u'18',\n    u'36',\n    u'10',\n    u'30',\n    u'27',\n    u'47',\n    u'13',\n    u'50',\n    u'6',\n    u'52',\n    u'4',\n    u'46',\n    u'39',\n    u'29',\n    u'49',\n    u'3',\n    u'38',\n    u'8',\n    u'32',\n    u'17',\n    u'37',\n    u'9',\n    u'12',\n    u'21',\n    u'1',\n    u'24',\n    u'25',\n    u'45',\n    u'42',\n    u'43',\n    u'2',\n    u'53',\n    u'34',\n    u'54',\n    u'11',\n    u'51',\n    u'5',\n    u'7',\n    u'28',\n    u'48',\n    u'56',\n    u'44',\n    u'57',\n    u'14',\n    u'15',\n    u'19',\n    u'16',\n    u'26',\n    u'31',\n    u'33',\n    u'35'),\n   (u'2',\n    u'1',\n    u'3',\n    u'2',\n    u'4',\n    u'3',\n    u'4',\n    u'2',\n    u'5',\n    u'2',\n    u'4',\n    u'4',\n    u'4',\n    u'3',\n    u'1',\n    u'4',\n    u'1',\n    u'1',\n    u'1',\n    u'5',\n    u'1',\n    u'4',\n    u'1',\n    u'2',\n    u'1',\n    u'2',\n    u'2',\n    u'4',\n    u'4',\n    u'3',\n    u'4',\n    u'3',\n    u'3',\n    u'1',\n    u'2',\n    u'3',\n    u'1',\n    u'1',\n    u'5',\n    u'4',\n    u'2',\n    u'2',\n    u'2',\n    u'4',\n    u'2',\n    u'1',\n    u'2',\n    u'5',\n    u'5',\n    u'1',\n    u'3',\n    u'2',\n    u'4',\n    u'4',\n    u'2',\n    u'3',\n    u'1'),\n   (u'1.0',\n    u'4.0',\n    u'1.0',\n    u'19.0',\n    u'8.0',\n    u'8.0',\n    u'2.0',\n    u'1.0',\n    u'8.0',\n    u'4.0',\n    u'7.0',\n    u'17.0',\n    u'7.0',\n    u'2.0',\n    u'6.0',\n    u'2.0',\n    u'4.0',\n    u'21.0',\n    u'14.0',\n    u'17.0',\n    u'7.0',\n    u'3.0',\n    u'6.0',\n    u'5.0',\n    u'6.0',\n    u'5.0',\n    u'7.0',\n    u'2.0',\n    u'2.0',\n    u'7.0',\n    u'0',\n    u'9.0',\n    u'7.0',\n    u'10.0',\n    u'13.0',\n    u'8.0',\n    u'11.0',\n    u'11.0',\n    u'9.0',\n    u'3.0',\n    u'4.0',\n    u'13.0',\n    u'1.0',\n    u'3.0',\n    u'5.0',\n    u'4.0',\n    u'7.0',\n    u'2.0',\n    u'3.0',\n    u'4.0',\n    u'2.0',\n    u'5.0',\n    u'1.0',\n    u'1.0',\n    u'7.0',\n    u'2.0',\n    u'3.0'),\n   (u'17134 31394 39581 3434 25139',\n    u'12713 30106 31888 207 33007 42611 28312 10312 48946 40411 27117 44267 4305 22275 18339',\n    u'10312 4305 40411',\n    u'24852 10312 33434 42611 21501 31394',\n    u'32842 17134 21501 33434 49424',\n    u'30106 12713 31888 42611 33434 10312 49424 32226',\n    u'21501 33434 49424 12713 17134 32842',\n    u'27117 49424 17134 46063',\n    u'42611 10312 44267',\n    u'10312 42611 28312 27117 24727 44267 49424 18339 5870',\n    u'10312 42611 27117 24727 48946 17134 46063 12713 33434 21501',\n    u'17134 1775 20915 27117 10312 21501',\n    u'30106 44267 26055',\n    u'10312 42611 48946 34898 18339 4305 1775',\n    u'30106 31888 12713 35216 17003 19729 207',\n    u'27117 19691 42535 46647',\n    u'3389 31808 10473 27730',\n    u'11323 1775 39581',\n    u'10312 42611 28312 27117 49424',\n    u'30106 17134 33434 6550',\n    u'31680',\n    u'17134 32842 18339 21501',\n    u'48946 40411 42611 27117 10312 17134 34898',\n    u'21501 42611 24727 44267',\n    u'17134 46063 33434 34898 881 19691 24852 48946',\n    u'30106 12713 31888 44267 26055',\n    u'10312 30106 33434 31394',\n    u'196 49424 27730 31888 33007 30106',\n    u'30106 12713 31888 17003 21501 32226 196 44267 34320 43154',\n    u'12713 30106 31888 17003 10312 207 44267 17134 32842 33007 28312 24727',\n    u'30106 31888 12713 10473 4305 33007 42611',\n    u'17134 32842 6155 48290 49424',\n    u'30106 31888 12713 33434 44267 17003 33007 32226 10312 42611',\n    u'17134 34898 46063 1775 31394',\n    u'31394 15923 19691',\n    u'19691 32226 30106 10312',\n    u'10473 31888 30106 12713 32842 17134 21501 33434 28312',\n    u'10312 28312 42611',\n    u'10312 42611 28312 19691',\n    u'11323',\n    u'17134 32842 49424 27730',\n    u'1775 17134 48946 34898',\n    u'42611 34320',\n    u'32842 17134 21501 33434',\n    u'44267 49424 18339 12713 30106 21501',\n    u'49424 1875 19691 37365',\n    u'1775 39581 24852 21501 42535 29705',\n    u'18339 17003 27117 24727 48946',\n    u'10312 27117 24727 48946',\n    u'32842 17134 44267 26055 6550',\n    u'30106 31888 12713 21501 207 32226 49424 44267',\n    u'10312 18339 881 17003 3434 17134 32842 3298 46063',\n    u'10312 42611 48946 32842 17134',\n    u'30106 12713 31888 49424 4305',\n    u'10312 27117 17134 28312 34898',\n    u'24852 42611 10312 40411 24727',\n    u'17134 34898 30106 31394')))]"
      ]
     },
     "execution_count": 113,
     "metadata": {},
     "output_type": "execute_result"
    }
   ],
   "source": [
    "joined_prior.map(lambda x : x.split(',')).map(lambda x : (int(x[1]), (x[0], x[3],x[4],x[6],x[7] ))).\\\n",
    "    combineByKey((lambda x : ((x[0],), (x[1],),(x[2],),(x[3],), (x[4],))), \n",
    "                 (lambda x,y: (x[0] + (y[0],),x[1] + (y[1],),x[2] + (y[2],),x[3] + (y[3],),x[4] + (y[4],))),\n",
    "                 (lambda x,y : (x[0]+y[0],x[1]+y[1],x[2]+y[2],x[3]+y[3],x[4]+y[4]))).take(10)"
   ]
  }
 ],
 "metadata": {
  "kernelspec": {
   "display_name": "Python 2",
   "language": "python",
   "name": "python2"
  },
  "language_info": {
   "codemirror_mode": {
    "name": "ipython",
    "version": 2.0
   },
   "file_extension": ".py",
   "mimetype": "text/x-python",
   "name": "python",
   "nbconvert_exporter": "python",
   "pygments_lexer": "ipython2",
   "version": "2.7.13"
  }
 },
 "nbformat": 4,
 "nbformat_minor": 0
}