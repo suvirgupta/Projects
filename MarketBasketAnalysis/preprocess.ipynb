{
 "cells": [
  {
   "cell_type": "code",
   "execution_count": 1,
   "metadata": {},
   "outputs": [
    {
     "name": "stdout",
     "output_type": "stream",
     "text": [
      "Welcome to\n      ____              __\n     / __/__  ___ _____/ /__\n    _\\ \\/ _ \\/ _ `/ __/  '_/\n   /__ / .__/\\_,_/_/ /_/\\_\\   version 1.6.0\n      /_/\n\nUsing Python version 2.7.13 (default, Dec 20 2016 23:09:15)\nSparkContext available as sc, HiveContext available as sqlContext.\n"
     ]
    }
   ],
   "source": [
    "import os\n",
    "import sys\n",
    "os.environ[\"SPARK_HOME\"] = \"/usr/lib/spark/\"\n",
    "os.environ[\"PYSPARK_PYTHON\"]= \"/home/cloudera/anaconda2/bin/python\"\n",
    "os.environ[\"PYSPARK_DRIVER_PYTHON\"]= \"/home/cloudera/anaconda2/bin/python\"\n",
    "os.environ[\"SPARK_YARN_USER_ENV\"]= \"/home/cloudera/anaconda2/bin/python\"\n",
    "\n",
    "spark_home = os.environ.get('SPARK_HOME', None)\n",
    "if not spark_home:\n",
    "    raise ValueError('SPARK_HOME environment variable is not set')\n",
    "sys.path.insert(0, os.path.join(spark_home, 'python'))\n",
    "sys.path.insert(0, os.path.join(spark_home, 'python/lib/py4j-0.8.1-src.zip'))\n",
    "execfile(os.path.join(spark_home, 'python/pyspark/shell.py'))\n",
    "\n",
    "from pyspark import SparkContext, SparkConf"
   ]
  },
  {
   "cell_type": "markdown",
   "metadata": {},
   "source": [
    "##### The Kaggle Instatcart Market Basket analysis has data with more than 2 million rows in orders_product_prior and other datat set also has around a milloin rows that requires manipulation using partition and parallel processing.\n",
    "##### For this reason In am using spark in jupyter and building my complete project in pycharm IDE. \n",
    "##### Created a virtual enviroment with spark libraries and anaconda python 2.7, initial settings are shown inthe first cell. \n",
    "##### Changed the 'dfs.blocksize' paramemter in the hdfs-default.xml to 64X1024X1024 bytes. \n",
    "##### This will increase parallisum in the hdfs processing for aggregating dataset in memory becomes faster.\n",
    "##### for more information check this blog http://www.bigsynapse.com/spark-input-output.\n",
    "##### Though I am using Pseudorandom distribution on cloudera quick start VM 5.8 it might not have any performance benifit as expected as machine is single but one cn try increasing the no of core and the executor memory.\n",
    "##### default driver memory given is 5g in my VM , since in local mode executor is inside the driver so can't get memory more than that.##### underline properties to configure is spark  --num-executors <is one as installation is standalone> --executor-cores <depends on core of processor> --executor-memory <Memory available to the VM>"
   ]
  },
  {
   "cell_type": "markdown",
   "metadata": {},
   "source": [
    "#### Order Schema \n",
    "##### order_id, user_id, eval_set, order_number, order_dow, order_hour_of_day, days_since_prior_orde\n",
    "##### read data with partition of three since data size of orders file is more than 110 mb we use 4 partition of size 3*32 mb\n",
    "##### 32 mb is the local file system block size in whicj data is stored\n",
    "##### 128 mb block size is the size of memory the name node referrences more 32 size blockes can be added to it.\n",
    "##### It is for the namenode to decide in which 128 mb block refrence the 32 mb block can go"
   ]
  },
  {
   "cell_type": "code",
   "execution_count": 6,
   "metadata": {
    "collapsed": true
   },
   "outputs": [],
   "source": [
    "orders = sc.textFile(\"file:///home/cloudera/Desktop/kaggle/orders.csv\", 4).filter(lambda x: 'order_id' not in x).map(lambda x : x.split(','))"
   ]
  },
  {
   "cell_type": "code",
   "execution_count": 90,
   "metadata": {},
   "outputs": [
    {
     "data": {
      "text/plain": [
       "3421083"
      ]
     },
     "execution_count": 90,
     "metadata": {},
     "output_type": "execute_result"
    }
   ],
   "source": [
    "orders.count()"
   ]
  },
  {
   "cell_type": "markdown",
   "metadata": {},
   "source": [
    "#### Order_Product_Schema\n",
    "##### order_id, Product_id, \n",
    "##### Here for we are taking the partition of 'order_products__prior' to be 18 as it is of more 550 mb \n",
    "##### similarly for 'order_products__train'  it is  default 0 partiton as the size is less than block size 32 mb"
   ]
  },
  {
   "cell_type": "code",
   "execution_count": 10,
   "metadata": {
    "collapsed": true
   },
   "outputs": [],
   "source": [
    "orders_prior = sc.textFile(\"file:///home/cloudera/Desktop/kaggle/order_products__prior.csv\", 18).filter(lambda x: 'order_id' not in x).\\\n",
    "    map(lambda x : x.split(','))\n",
    "\n",
    "orders_train = sc.textFile(\"file:///home/cloudera/Desktop/kaggle/order_products__train.csv\").filter(lambda x: 'order_id' not in x).\\\n",
    "    map(lambda x : x.split(','))"
   ]
  },
  {
   "cell_type": "code",
   "execution_count": 21,
   "metadata": {},
   "outputs": [
    {
     "data": {
      "text/plain": [
       "[[u'2', u'33120', u'1', u'1']]"
      ]
     },
     "execution_count": 21,
     "metadata": {},
     "output_type": "execute_result"
    }
   ],
   "source": [
    "orders_prior.take(1)"
   ]
  },
  {
   "cell_type": "markdown",
   "metadata": {},
   "source": [
    "##### Save all rdds created to hadoop file system in distributed fashion based on the no of the partions inthe rdd while loading "
   ]
  },
  {
   "cell_type": "code",
   "execution_count": 23,
   "metadata": {},
   "outputs": [],
   "source": [
    "orders.map(lambda x : ','.join(x)).saveAsTextFile(\"/user/cloudera/kaggle/orders\")"
   ]
  },
  {
   "cell_type": "code",
   "execution_count": 24,
   "metadata": {},
   "outputs": [],
   "source": [
    "orders_prior.map(lambda x : ','.join(x)).saveAsTextFile(\"/user/cloudera/kaggle/orders_prior\")"
   ]
  },
  {
   "cell_type": "code",
   "execution_count": 25,
   "metadata": {},
   "outputs": [],
   "source": [
    "orders_train.map(lambda x : ','.join(x)).saveAsTextFile(\"/user/cloudera/kaggle/orders_train\")"
   ]
  },
  {
   "cell_type": "code",
   "execution_count": 28,
   "metadata": {},
   "outputs": [],
   "source": [
    "## Define null prser to parse the blank strings \n",
    "def nullparse(x):\n",
    "    if x =='':\n",
    "        x=0\n",
    "    else:\n",
    "        float(x)\n",
    "    return x"
   ]
  },
  {
   "cell_type": "code",
   "execution_count": 41,
   "metadata": {},
   "outputs": [],
   "source": [
    "x= sc.textFile(\"/user/cloudera/kaggle/orders\").map(lambda x: x.split(',')).map(lambda x : (int(x[0]),(x[1],x[2],x[3],x[4],x[5],str(nullparse(x[6])))))"
   ]
  },
  {
   "cell_type": "code",
   "execution_count": 38,
   "metadata": {
    "collapsed": true
   },
   "outputs": [],
   "source": [
    "y=sc.textFile(\"/user/cloudera/kaggle/orders_prior\").map(lambda x: x.split(',')).map(lambda x : (int(x[0]), x[1]))"
   ]
  },
  {
   "cell_type": "code",
   "execution_count": 65,
   "metadata": {},
   "outputs": [],
   "source": [
    "z= sc.textFile(\"/user/cloudera/kaggle/orders_train\").map(lambda x: x.split(',')).map(lambda x : (int(x[0]), x[1]))"
   ]
  },
  {
   "cell_type": "code",
   "execution_count": 43,
   "metadata": {
    "collapsed": true
   },
   "outputs": [],
   "source": [
    "x.filter(lambda x : x[1][1]!=\"test\").mapValues(lambda x : x[5]).reduceByKey(lambda x,y : x+y).\\\n",
    "    sortBy(lambda x : -x[1]).take(3)"
   ]
  },
  {
   "cell_type": "markdown",
   "metadata": {},
   "source": [
    "##### Combine all products purchased for a perticular order id in one string sperated by space for order_product_prior data set."
   ]
  },
  {
   "cell_type": "code",
   "execution_count": 45,
   "metadata": {
    "collapsed": true
   },
   "outputs": [
    {
     "data": {
      "text/plain": [
       "[(3145734, u'45223 32740 46616 8230 6975 47668 3582'),\n (2621448, u'37718 38544 2748 47209 45504 28699 8006 41665 2078 35887'),\n (2097162, u'48988 37774 24852 19057')]"
      ]
     },
     "execution_count": 45,
     "metadata": {},
     "output_type": "execute_result"
    }
   ],
   "source": [
    "y.groupByKey().mapValues(lambda x : ' '.join(x)).take(3)"
   ]
  },
  {
   "cell_type": "markdown",
   "metadata": {},
   "source": [
    "##### Save the intermediate result to the HDFS to reduce the time for further agregations"
   ]
  },
  {
   "cell_type": "code",
   "execution_count": 52,
   "metadata": {},
   "outputs": [],
   "source": [
    "y.groupByKey().mapValues(lambda x : ' '.join(x)).map(lambda x : (str(x[0]),x[1])).map(lambda x : ','.join(x)).saveAsTextFile(\"/user/cloudera/kaggle/order_prior_inter\")"
   ]
  },
  {
   "cell_type": "code",
   "execution_count": 53,
   "metadata": {
    "collapsed": true
   },
   "outputs": [],
   "source": [
    "order_prod_prio_inter = sc.textFile(\"/user/cloudera/kaggle/order_prior_inter\").map(lambda x: x.split(','))"
   ]
  },
  {
   "cell_type": "code",
   "execution_count": 54,
   "metadata": {},
   "outputs": [
    {
     "data": {
      "text/plain": [
       "[[u'3145734', u'45223 32740 46616 8230 6975 47668 3582'],\n [u'2621448', u'37718 38544 2748 47209 45504 28699 8006 41665 2078 35887']]"
      ]
     },
     "execution_count": 54,
     "metadata": {},
     "output_type": "execute_result"
    }
   ],
   "source": [
    "order_prod_prio_inter.take(2)"
   ]
  },
  {
   "cell_type": "code",
   "execution_count": 57,
   "metadata": {
    "collapsed": true
   },
   "outputs": [
    {
     "data": {
      "text/plain": [
       "[(3145734, u'45223 32740 46616 8230 6975 47668 3582'),\n (2621448, u'37718 38544 2748 47209 45504 28699 8006 41665 2078 35887'),\n (2097162, u'48988 37774 24852 19057')]"
      ]
     },
     "execution_count": 57,
     "metadata": {},
     "output_type": "execute_result"
    }
   ],
   "source": [
    "order_prod_prio_inter.map(lambda x : (int(x[0]),x[1])).take(3)"
   ]
  },
  {
   "cell_type": "code",
   "execution_count": 58,
   "metadata": {
    "collapsed": true
   },
   "outputs": [
    {
     "data": {
      "text/plain": [
       "[(2883584,\n  ((u'78882', u'prior', u'1', u'3', u'20', '0'), u'43860 12249 34862')),\n (786434,\n  ((u'29232', u'prior', u'16', u'0', u'12', '4.0'),\n   u'29734 20847 4812 5491 31433 30192 45045 49628 38192 34134 26790 6891 7952 37658 28204 5194 22825 26346 32743 1158 18200 39977')),\n (1572868, ((u'14938', u'prior', u'7', u'0', u'14', '3.0'), u'21903'))]"
      ]
     },
     "execution_count": 58,
     "metadata": {},
     "output_type": "execute_result"
    }
   ],
   "source": [
    "x.join(order_prod_prio_inter.map(lambda x : (int(x[0]),x[1]))).take(3)"
   ]
  },
  {
   "cell_type": "code",
   "execution_count": 61,
   "metadata": {
    "collapsed": true
   },
   "outputs": [],
   "source": [
    "x.join(order_prod_prio_inter.map(lambda x : (int(x[0]),x[1]))).mapValues(lambda x : x[0]+(x[1],)).map(lambda x : (str(x[0]), x[1])).\\\n",
    "map(lambda x : (x[0],) + x[1]).map(lambda x : ','.join(x)).saveAsTextFile(\"/user/cloudera/kaggle/order_product_prior_joined\")"
   ]
  },
  {
   "cell_type": "markdown",
   "metadata": {},
   "source": [
    "####order_product_prior_join Schema\n",
    "##### order_id, user_id, eval_set, order_number, order_dow, order_hour_of_day, days_since_prior_order, all_purch_prod \n"
   ]
  },
  {
   "cell_type": "code",
   "execution_count": 64,
   "metadata": {},
   "outputs": [
    {
     "data": {
      "text/plain": [
       "[[u'2883584',\n  u'78882',\n  u'prior',\n  u'1',\n  u'3',\n  u'20',\n  u'0',\n  u'43860 12249 34862'],\n [u'786434',\n  u'29232',\n  u'prior',\n  u'16',\n  u'0',\n  u'12',\n  u'4.0',\n  u'29734 20847 4812 5491 31433 30192 45045 49628 38192 34134 26790 6891 7952 37658 28204 5194 22825 26346 32743 1158 18200 39977']]"
      ]
     },
     "execution_count": 64,
     "metadata": {},
     "output_type": "execute_result"
    }
   ],
   "source": [
    "sc.textFile(\"/user/cloudera/kaggle/order_product_prior_joined\").map(lambda x : x.split(',')).take(2)"
   ]
  },
  {
   "cell_type": "code",
   "execution_count": 75,
   "metadata": {},
   "outputs": [
    {
     "data": {
      "text/plain": [
       "[(1572864,\n  u'19204 39698 48290 32000 40463 20682 13176 11526 33890 5025 14161 9387 13931 33198 43123 45351 5618'),\n (1, u'49302 11109 10246 49683 43633 13176 47209 22035'),\n (2359297, u'21781 4421 39009 36431 30233 5097 47209 28427 2513')]"
      ]
     },
     "execution_count": 75,
     "metadata": {},
     "output_type": "execute_result"
    }
   ],
   "source": [
    "z.groupByKey().mapValues(lambda x : ' '.join(x)).take(3)"
   ]
  },
  {
   "cell_type": "markdown",
   "metadata": {},
   "source": [
    "##### Now lets create joined data set for order_product_train and the orders, this wont take much time as train data set is small and we can filter the orders data set for train only  "
   ]
  },
  {
   "cell_type": "code",
   "execution_count": 77,
   "metadata": {},
   "outputs": [],
   "source": [
    "x.filter(lambda x : x[1][1]=='train').join(z.groupByKey().mapValues(lambda x : ' '.join(x))).mapValues(lambda x : x[0]+(x[1],)).map(lambda x : (str(x[0]), x[1])).\\\n",
    "map(lambda x : (x[0],) + x[1]).map(lambda x : ','.join(x)).saveAsTextFile(\"/user/cloudera/kaggle/order_product_train_joined\")"
   ]
  },
  {
   "cell_type": "markdown",
   "metadata": {},
   "source": [
    "#### order_product_train_join Schema\n",
    "##### order_id, user_id, eval_set, order_number, order_dow, order_hour_of_day, days_since_prior_order, all_purch_prod"
   ]
  },
  {
   "cell_type": "code",
   "execution_count": 81,
   "metadata": {},
   "outputs": [
    {
     "data": {
      "text/plain": [
       "[u'1441800,23471,train,6,2,16,30.0,21713 24852 28204 3804 25544 8645 10916 29487 28634 17008',\n u'2621450,161225,train,25,4,13,30.0,46061',\n u'1703950,50594,train,4,4,12,30.0,19029 23594 8224 26882 18135 39922 38419 7042']"
      ]
     },
     "execution_count": 81,
     "metadata": {},
     "output_type": "execute_result"
    }
   ],
   "source": [
    "sc.textFile(\"/user/cloudera/kaggle/order_product_train_joined\").take(3)"
   ]
  },
  {
   "cell_type": "code",
   "execution_count": 82,
   "metadata": {},
   "outputs": [],
   "source": [
    "joined_train = sc.textFile(\"/user/cloudera/kaggle/order_product_train_joined\")"
   ]
  },
  {
   "cell_type": "code",
   "execution_count": 83,
   "metadata": {},
   "outputs": [],
   "source": [
    "joined_prior =  sc.textFile(\"/user/cloudera/kaggle/order_product_prior_joined\")"
   ]
  },
  {
   "cell_type": "code",
   "execution_count": 89,
   "metadata": {},
   "outputs": [
    {
     "data": {
      "text/plain": [
       "0"
      ]
     },
     "execution_count": 89,
     "metadata": {},
     "output_type": "execute_result"
    }
   ],
   "source": [
    "joined_prior.map(lambda x : x.split(',')).map(lambda x : (int(x[0], int(x[1],int))))"
   ]
  },
  {
   "cell_type": "code",
   "execution_count": 93,
   "metadata": {},
   "outputs": [],
   "source": [
    "subset_rdd_prior= sc.parallelize(joined_prior.take(10000))"
   ]
  },
  {
   "cell_type": "code",
   "execution_count": 106,
   "metadata": {},
   "outputs": [
    {
     "data": {
      "text/plain": [
       "[u'2883584,78882,prior,1,3,20,0,43860 12249 34862',\n u'786434,29232,prior,16,0,12,4.0,29734 20847 4812 5491 31433 30192 45045 49628 38192 34134 26790 6891 7952 37658 28204 5194 22825 26346 32743 1158 18200 39977']"
      ]
     },
     "execution_count": 106,
     "metadata": {},
     "output_type": "execute_result"
    }
   ],
   "source": [
    "subset_rdd_prior.take(2)"
   ]
  },
  {
   "cell_type": "markdown",
   "metadata": {},
   "source": [
    "#### Combined Prior Order History Grouped by user\n",
    "##### Now we have the combined data set based on the user from which we have to find insights \n",
    "##### Combined schema is a below grouped by user giving usera complete buying history \n",
    "##### user_id, all_order_id, order_numbers, all_order_dow, days_since_prior_orders, all_purch_prod_per_user"
   ]
  },
  {
   "cell_type": "code",
   "execution_count": 114,
   "metadata": {},
   "outputs": [
    {
     "data": {
      "text/plain": [
       "[(65538,\n  ((u'2886687',\n    u'2295459',\n    u'2982586',\n    u'3279300',\n    u'1458602',\n    u'2531850',\n    u'1564378',\n    u'1357315',\n    u'848742',\n    u'2174616',\n    u'1726630',\n    u'1847851',\n    u'622275',\n    u'2094779',\n    u'2102018',\n    u'1983262',\n    u'2105407',\n    u'1383433',\n    u'1410274',\n    u'499386',\n    u'609586',\n    u'1524281',\n    u'740091',\n    u'929490',\n    u'941612',\n    u'1063186',\n    u'3158598',\n    u'764140',\n    u'1384101',\n    u'476843',\n    u'3115083',\n    u'2509776',\n    u'1878663',\n    u'1153279',\n    u'3041583',\n    u'1888147',\n    u'322077',\n    u'2397932',\n    u'2691303',\n    u'3106399'),\n   (u'15',\n    u'28',\n    u'1',\n    u'24',\n    u'27',\n    u'30',\n    u'35',\n    u'8',\n    u'36',\n    u'13',\n    u'31',\n    u'5',\n    u'32',\n    u'34',\n    u'21',\n    u'37',\n    u'18',\n    u'16',\n    u'40',\n    u'17',\n    u'26',\n    u'9',\n    u'7',\n    u'38',\n    u'23',\n    u'14',\n    u'33',\n    u'29',\n    u'6',\n    u'22',\n    u'11',\n    u'4',\n    u'25',\n    u'20',\n    u'39',\n    u'12',\n    u'10',\n    u'3',\n    u'19',\n    u'2'),\n   (u'5',\n    u'6',\n    u'0',\n    u'2',\n    u'1',\n    u'1',\n    u'0',\n    u'3',\n    u'4',\n    u'0',\n    u'0',\n    u'5',\n    u'6',\n    u'0',\n    u'6',\n    u'2',\n    u'3',\n    u'0',\n    u'5',\n    u'2',\n    u'3',\n    u'0',\n    u'5',\n    u'0',\n    u'3',\n    u'0',\n    u'2',\n    u'3',\n    u'5',\n    u'1',\n    u'4',\n    u'1',\n    u'0',\n    u'0',\n    u'0',\n    u'0',\n    u'2',\n    u'6',\n    u'0',\n    u'3'),\n   (u'12.0',\n    u'5.0',\n    u'0',\n    u'6.0',\n    u'5.0',\n    u'12.0',\n    u'7.0',\n    u'5.0',\n    u'4.0',\n    u'7.0',\n    u'6.0',\n    u'4.0',\n    u'6.0',\n    u'5.0',\n    u'6.0',\n    u'5.0',\n    u'8.0',\n    u'9.0',\n    u'5.0',\n    u'23.0',\n    u'10.0',\n    u'11.0',\n    u'14.0',\n    u'5.0',\n    u'2.0',\n    u'28.0',\n    u'10.0',\n    u'11.0',\n    u'7.0',\n    u'2.0',\n    u'9.0',\n    u'9.0',\n    u'5.0',\n    u'0.0',\n    u'14.0',\n    u'3.0',\n    u'30.0',\n    u'3.0',\n    u'4.0',\n    u'24.0'),\n   (u'9934 49235 39928 1511 28204',\n    u'37220 13176 28204 42265 7751 48416 34942 21603 21108 3376 44359 39558 27104 39984 22935 39921 34635 42701',\n    u'1511 18523 9934 47209 44473 4920 13740 40910 21290 21137 44275 49235 28204 4793 33497 10895 41950 25072 48230 28993 5194 38313 42383 15700 5077 39921 2450 35108 31263 43789 21903 41544 18610 49174 21461 30336 39928 37220 17979',\n    u'18200 38383 39561 12144 37220 13740 44359 47766 17484 42265 1511 2770 5194 25072 22170 24841',\n    u'1511 21137 24852 4920 2452 2770 3599 22474 34448 31869 49235 25072 6552 8056 28204',\n    u'2770 13176 28204 4920 47766 26790 2452 44275 44375 25072 5194 39921 18610 42265 22170 21137 10761 26344 1896 10132 45840 44116 4138 9092 33198 4957 31869 43442 3481 23543 6631 21019 31040 41787 36772 27104 46720 27663 3376 32906 5876 2447',\n    u'18696 28849 14267 13176 47766 2770 1511 49235 40516 40706 30391 3989',\n    u'2770 1511 21137 5194 44275 47209 44473 40910 28204 2452 38313 895 25072 22170 39921 33135 3481 18610 18523 35108 36036 16093 48720 21019 1896 26344',\n    u'13176 19677 28204 47209 48679 15040 784 10163 44422',\n    u'37029 48230 2450 49235 5194',\n    u'49235 47766 13176 21137 40706 20536 44035 43789 4056 10948',\n    u'49235 10749 44359 39275 21137 26209 28842 33746 3376',\n    u'1511 11736 8988 30391 44359 19677 19057 21137 44422 21938 2295 13212',\n    u'9934 5077 1511 37067 47766 45066 2452 39928 24841 26790 42265 31040 27104 1999',\n    u'44912',\n    u'9934 1511 24891 49235 31040 13176 32175 21603',\n    u'4920 49235 1511',\n    u'28985 32175 12916 45066 26790 12144 13740 4793 42265 39928 1511 44275 18610 35108',\n    u'21290 13380 1511 13176 34448',\n    u'26790 13740 38453 4920 44359 47766 42265 1511 44275 44473 2452 1896 26344',\n    u'1511 47766 13176 49235 2770 44275 28204 19048 581 34448 3599 26790 16145 8670 47626 28985',\n    u'34551 3481 35108 24841 1896 26344 38641 21461 35045 49174 9808 1700 12980 6873 39430 14267',\n    u'2770 47209 34023 28849 3376 1999 5818 19678 31343 16570 39928 28204 12254 38274',\n    u'47766 28204 2770 13740',\n    u'22474 15143 44375 10761 13740 49235 25072 18610',\n    u'9598 4138 10761 42383 13740 24561 22935 4920 44359 10132 1511 44275 2452 895 28204 3481 1896 26344',\n    u'49235 37067 8277 47209 5077 33746 8006 45007 23400 5818 19677 22504 23543 6647 39928 31263 13740 39561 25072 18523 37220',\n    u'24891 1511 13176 47766 48679 44375 21108 22825 4920 39928',\n    u'1511 21137 5194 49235 44275 44473 6631 2452 38313 40910 895 39921 22170 20327 10132 24841 39928 9076 21543 12204 3481 47766 17484 36772 18610 1896',\n    u'41220 27104 24964 1511 21461 49174',\n    u'34448 22888 10761 9595 48230 32293 22935 45535 4920 44359 10132 1511 21137 22170',\n    u'1511 21137 5194 4920 44275 33497 9934 38313 28204 25072 4793 44473 895 40910 2452 39921 22170 20327 18610 7806 2081 4659 47766 17484 39781',\n    u'45066 24852 2770 20995 31343 1999 18479 38562',\n    u'37119 22888 44375 10895 48230 28993 2450 32293 1511 22170 39921 18610 35108 12980',\n    u'1511 13176 47766 2770 49235 13740 24891 2452 9934 42265 4920 44275 10132 18523 23543 4957 11736 22888 6873 10895 12980 2450 4163 48325 42383 2651',\n    u'13740',\n    u'4920 4793 21137 44275 38313 1896 38641 26344',\n    u'24964 22935 43076 19519 45535 38274',\n    u'40604 34126 22474 4138 33198 44375 41220 27104 24964 31343 1511 25072 18610 35108 21461 49174',\n    u'1511 21137 5194 2770 44275 4920 13740 47209 6631 38313 25072 4793 28204 21290 895 38453 32293 33135 39928 24841 24561 17484')))]"
      ]
     },
     "execution_count": 114,
     "metadata": {},
     "output_type": "execute_result"
    }
   ],
   "source": [
    "joined_prior.map(lambda x : x.split(',')).map(lambda x : (int(x[1]), (x[0], x[3],x[4],x[6],x[7] ))).\\\n",
    "    combineByKey((lambda x : ((x[0],), (x[1],),(x[2],),(x[3],), (x[4],))), \n",
    "                 (lambda x,y: (x[0] + (y[0],),x[1] + (y[1],),x[2] + (y[2],),x[3] + (y[3],),x[4] + (y[4],))),\n",
    "                 (lambda x,y : (x[0]+y[0],x[1]+y[1],x[2]+y[2],x[3]+y[3],x[4]+y[4]))).take(1)"
   ]
  },
  {
   "cell_type": "markdown",
   "metadata": {},
   "source": [
    "##### Taking the subsetted data for 1000 users for processing"
   ]
  },
  {
   "cell_type": "code",
   "execution_count": 116,
   "metadata": {},
   "outputs": [],
   "source": [
    "sub_user= sc.parallelize(joined_prior.map(lambda x : x.split(',')).map(lambda x : (int(x[1]), (x[0], x[3],x[4],x[6],x[7] ))).\\\n",
    "    combineByKey((lambda x : ((x[0],), (x[1],),(x[2],),(x[3],), (x[4],))), \n",
    "                 (lambda x,y: (x[0] + (y[0],),x[1] + (y[1],),x[2] + (y[2],),x[3] + (y[3],),x[4] + (y[4],))),\n",
    "                 (lambda x,y : (x[0]+y[0],x[1]+y[1],x[2]+y[2],x[3]+y[3],x[4]+y[4]))).take(1000))"
   ]
  },
  {
   "cell_type": "code",
   "execution_count": 117,
   "metadata": {},
   "outputs": [
    {
     "data": {
      "text/plain": [
       "ParallelCollectionRDD[349] at parallelize at PythonRDD.scala:423"
      ]
     },
     "execution_count": 117,
     "metadata": {},
     "output_type": "execute_result"
    }
   ],
   "source": [
    "sub_user.persist()  ### persist in memory for fast processing"
   ]
  },
  {
   "cell_type": "code",
   "execution_count": 157,
   "metadata": {},
   "outputs": [],
   "source": [
    "def tuplesort(a,b,c,d,e):\n",
    "    combined = list()\n",
    "    x,y,z,s,t=(),(),(),(),()\n",
    "    for i in range(len(b)):\n",
    "        combined.append((a[i],int(b[i]),c[i],d[i],e[i]))    \n",
    "    j= sorted(combined, key= lambda x : x[1])\n",
    "    for i in range(len(combined)):\n",
    "        x,y,z,s,t= x + (j[i][0],), y+(j[i][1],), z+ (j[i][2],), s + (j[i][3],), t +(j[i][4],)\n",
    "    return [x,y,z,s,t]"
   ]
  },
  {
   "cell_type": "markdown",
   "metadata": {},
   "source": [
    "##### order the data set based on order no.\n",
    "##### user_id, all_order_id, order_numbers, all_order_dow, days_since_prior_orders, all_purch_prod_per_user\n",
    "##### Data for one user in sorted order by order no "
   ]
  },
  {
   "cell_type": "code",
   "execution_count": 167,
   "metadata": {},
   "outputs": [
    {
     "data": {
      "text/plain": [
       "[(65538,\n  u'2982586 3106399 2397932 2509776 1847851 1384101 740091 1357315 1524281 322077 3115083 1888147 2174616 1063186 2886687 1383433 499386 2105407 2691303 1153279 2102018 476843 941612 3279300 1878663 609586 1458602 2295459 764140 2531850 1726630 622275 3158598 2094779 1564378 848742 1983262 929490 3041583 1410274',\n  u'0 3 6 1 5 5 5 3 0 2 4 0 0 0 5 0 2 3 0 0 6 1 3 2 0 3 1 6 3 1 0 6 2 0 0 4 2 0 0 5',\n  u'0 24.0 3.0 9.0 4.0 7.0 14.0 5.0 11.0 30.0 9.0 3.0 7.0 28.0 12.0 9.0 23.0 8.0 4.0 0.0 6.0 2.0 2.0 6.0 5.0 10.0 5.0 5.0 11.0 12.0 6.0 6.0 10.0 5.0 7.0 4.0 5.0 5.0 14.0 5.0',\n  u'1511 18523 9934 47209 44473 4920 13740 40910 21290 21137 44275 49235 28204 4793 33497 10895 41950 25072 48230 28993 5194 38313 42383 15700 5077 39921 2450 35108 31263 43789 21903 41544 18610 49174 21461 30336 39928 37220 17979|1511 21137 5194 2770 44275 4920 13740 47209 6631 38313 25072 4793 28204 21290 895 38453 32293 33135 39928 24841 24561 17484|24964 22935 43076 19519 45535 38274|1511 21137 5194 4920 44275 33497 9934 38313 28204 25072 4793 44473 895 40910 2452 39921 22170 20327 18610 7806 2081 4659 47766 17484 39781|49235 10749 44359 39275 21137 26209 28842 33746 3376|1511 21137 5194 49235 44275 44473 6631 2452 38313 40910 895 39921 22170 20327 10132 24841 39928 9076 21543 12204 3481 47766 17484 36772 18610 1896|2770 47209 34023 28849 3376 1999 5818 19678 31343 16570 39928 28204 12254 38274|2770 1511 21137 5194 44275 47209 44473 40910 28204 2452 38313 895 25072 22170 39921 33135 3481 18610 18523 35108 36036 16093 48720 21019 1896 26344|34551 3481 35108 24841 1896 26344 38641 21461 35045 49174 9808 1700 12980 6873 39430 14267|4920 4793 21137 44275 38313 1896 38641 26344|34448 22888 10761 9595 48230 32293 22935 45535 4920 44359 10132 1511 21137 22170|13740|37029 48230 2450 49235 5194|9598 4138 10761 42383 13740 24561 22935 4920 44359 10132 1511 44275 2452 895 28204 3481 1896 26344|9934 49235 39928 1511 28204|28985 32175 12916 45066 26790 12144 13740 4793 42265 39928 1511 44275 18610 35108|26790 13740 38453 4920 44359 47766 42265 1511 44275 44473 2452 1896 26344|4920 49235 1511|40604 34126 22474 4138 33198 44375 41220 27104 24964 31343 1511 25072 18610 35108 21461 49174|37119 22888 44375 10895 48230 28993 2450 32293 1511 22170 39921 18610 35108 12980|44912|41220 27104 24964 1511 21461 49174|22474 15143 44375 10761 13740 49235 25072 18610|18200 38383 39561 12144 37220 13740 44359 47766 17484 42265 1511 2770 5194 25072 22170 24841|45066 24852 2770 20995 31343 1999 18479 38562|1511 47766 13176 49235 2770 44275 28204 19048 581 34448 3599 26790 16145 8670 47626 28985|1511 21137 24852 4920 2452 2770 3599 22474 34448 31869 49235 25072 6552 8056 28204|37220 13176 28204 42265 7751 48416 34942 21603 21108 3376 44359 39558 27104 39984 22935 39921 34635 42701|24891 1511 13176 47766 48679 44375 21108 22825 4920 39928|2770 13176 28204 4920 47766 26790 2452 44275 44375 25072 5194 39921 18610 42265 22170 21137 10761 26344 1896 10132 45840 44116 4138 9092 33198 4957 31869 43442 3481 23543 6631 21019 31040 41787 36772 27104 46720 27663 3376 32906 5876 2447|49235 47766 13176 21137 40706 20536 44035 43789 4056 10948|1511 11736 8988 30391 44359 19677 19057 21137 44422 21938 2295 13212|49235 37067 8277 47209 5077 33746 8006 45007 23400 5818 19677 22504 23543 6647 39928 31263 13740 39561 25072 18523 37220|9934 5077 1511 37067 47766 45066 2452 39928 24841 26790 42265 31040 27104 1999|18696 28849 14267 13176 47766 2770 1511 49235 40516 40706 30391 3989|13176 19677 28204 47209 48679 15040 784 10163 44422|9934 1511 24891 49235 31040 13176 32175 21603|47766 28204 2770 13740|1511 13176 47766 2770 49235 13740 24891 2452 9934 42265 4920 44275 10132 18523 23543 4957 11736 22888 6873 10895 12980 2450 4163 48325 42383 2651|21290 13380 1511 13176 34448')]"
      ]
     },
     "execution_count": 167,
     "metadata": {},
     "output_type": "execute_result"
    }
   ],
   "source": [
    "sub_user.map(lambda x : (x[0], tuplesort(x[1][0], x[1][1], x[1][2],x[1][3],x[1][4])))\\\n",
    "    .map(lambda x : (x[0],' '.join(x[1][0]), ' '.join(x[1][2]),' '.join(x[1][3]),'|'.join(x[1][4]))).take(1)"
   ]
  },
  {
   "cell_type": "code",
   "execution_count": 173,
   "metadata": {},
   "outputs": [
    {
     "data": {
      "text/plain": [
       "ParallelCollectionRDD[349] at parallelize at PythonRDD.scala:423"
      ]
     },
     "execution_count": 173,
     "metadata": {},
     "output_type": "execute_result"
    }
   ],
   "source": [
    "sub_user.unpersist()"
   ]
  },
  {
   "cell_type": "code",
   "execution_count": 168,
   "metadata": {},
   "outputs": [],
   "source": [
    "inter_join=joined_prior.map(lambda x : x.split(',')).map(lambda x : (int(x[1]), (x[0], x[3],x[4],x[6],x[7] ))).\\\n",
    "    combineByKey((lambda x : ((x[0],), (x[1],),(x[2],),(x[3],), (x[4],))), \n",
    "                 (lambda x,y: (x[0] + (y[0],),x[1] + (y[1],),x[2] + (y[2],),x[3] + (y[3],),x[4] + (y[4],))),\n",
    "                 (lambda x,y : (x[0]+y[0],x[1]+y[1],x[2]+y[2],x[3]+y[3],x[4]+y[4])))"
   ]
  },
  {
   "cell_type": "markdown",
   "metadata": {},
   "source": [
    "##### Running a general recommendor engine based on colaborative filtering "
   ]
  },
  {
   "cell_type": "code",
   "execution_count": 170,
   "metadata": {},
   "outputs": [],
   "source": [
    "inter1_join=inter_join.map(lambda x : (x[0], tuplesort(x[1][0], x[1][1], x[1][2],x[1][3],x[1][4])))\\\n",
    "    .map(lambda x : (x[0],' '.join(x[1][0]), ' '.join(x[1][2]),' '.join(x[1][3]),'|'.join(x[1][4]))).\\\n",
    "    map(lambda x : (x[0], x[4]))"
   ]
  },
  {
   "cell_type": "code",
   "execution_count": 171,
   "metadata": {},
   "outputs": [
    {
     "data": {
      "text/plain": [
       "PythonRDD[366] at RDD at PythonRDD.scala:43"
      ]
     },
     "execution_count": 171,
     "metadata": {},
     "output_type": "execute_result"
    }
   ],
   "source": [
    "inter1_join.persist()"
   ]
  },
  {
   "cell_type": "code",
   "execution_count": 172,
   "metadata": {},
   "outputs": [
    {
     "data": {
      "text/plain": [
       "[(65538,\n  u'1511 18523 9934 47209 44473 4920 13740 40910 21290 21137 44275 49235 28204 4793 33497 10895 41950 25072 48230 28993 5194 38313 42383 15700 5077 39921 2450 35108 31263 43789 21903 41544 18610 49174 21461 30336 39928 37220 17979|1511 21137 5194 2770 44275 4920 13740 47209 6631 38313 25072 4793 28204 21290 895 38453 32293 33135 39928 24841 24561 17484|24964 22935 43076 19519 45535 38274|1511 21137 5194 4920 44275 33497 9934 38313 28204 25072 4793 44473 895 40910 2452 39921 22170 20327 18610 7806 2081 4659 47766 17484 39781|49235 10749 44359 39275 21137 26209 28842 33746 3376|1511 21137 5194 49235 44275 44473 6631 2452 38313 40910 895 39921 22170 20327 10132 24841 39928 9076 21543 12204 3481 47766 17484 36772 18610 1896|2770 47209 34023 28849 3376 1999 5818 19678 31343 16570 39928 28204 12254 38274|2770 1511 21137 5194 44275 47209 44473 40910 28204 2452 38313 895 25072 22170 39921 33135 3481 18610 18523 35108 36036 16093 48720 21019 1896 26344|34551 3481 35108 24841 1896 26344 38641 21461 35045 49174 9808 1700 12980 6873 39430 14267|4920 4793 21137 44275 38313 1896 38641 26344|34448 22888 10761 9595 48230 32293 22935 45535 4920 44359 10132 1511 21137 22170|13740|37029 48230 2450 49235 5194|9598 4138 10761 42383 13740 24561 22935 4920 44359 10132 1511 44275 2452 895 28204 3481 1896 26344|9934 49235 39928 1511 28204|28985 32175 12916 45066 26790 12144 13740 4793 42265 39928 1511 44275 18610 35108|26790 13740 38453 4920 44359 47766 42265 1511 44275 44473 2452 1896 26344|4920 49235 1511|40604 34126 22474 4138 33198 44375 41220 27104 24964 31343 1511 25072 18610 35108 21461 49174|37119 22888 44375 10895 48230 28993 2450 32293 1511 22170 39921 18610 35108 12980|44912|41220 27104 24964 1511 21461 49174|22474 15143 44375 10761 13740 49235 25072 18610|18200 38383 39561 12144 37220 13740 44359 47766 17484 42265 1511 2770 5194 25072 22170 24841|45066 24852 2770 20995 31343 1999 18479 38562|1511 47766 13176 49235 2770 44275 28204 19048 581 34448 3599 26790 16145 8670 47626 28985|1511 21137 24852 4920 2452 2770 3599 22474 34448 31869 49235 25072 6552 8056 28204|37220 13176 28204 42265 7751 48416 34942 21603 21108 3376 44359 39558 27104 39984 22935 39921 34635 42701|24891 1511 13176 47766 48679 44375 21108 22825 4920 39928|2770 13176 28204 4920 47766 26790 2452 44275 44375 25072 5194 39921 18610 42265 22170 21137 10761 26344 1896 10132 45840 44116 4138 9092 33198 4957 31869 43442 3481 23543 6631 21019 31040 41787 36772 27104 46720 27663 3376 32906 5876 2447|49235 47766 13176 21137 40706 20536 44035 43789 4056 10948|1511 11736 8988 30391 44359 19677 19057 21137 44422 21938 2295 13212|49235 37067 8277 47209 5077 33746 8006 45007 23400 5818 19677 22504 23543 6647 39928 31263 13740 39561 25072 18523 37220|9934 5077 1511 37067 47766 45066 2452 39928 24841 26790 42265 31040 27104 1999|18696 28849 14267 13176 47766 2770 1511 49235 40516 40706 30391 3989|13176 19677 28204 47209 48679 15040 784 10163 44422|9934 1511 24891 49235 31040 13176 32175 21603|47766 28204 2770 13740|1511 13176 47766 2770 49235 13740 24891 2452 9934 42265 4920 44275 10132 18523 23543 4957 11736 22888 6873 10895 12980 2450 4163 48325 42383 2651|21290 13380 1511 13176 34448')]"
      ]
     },
     "execution_count": 172,
     "metadata": {},
     "output_type": "execute_result"
    }
   ],
   "source": [
    "inter1_join.take(1)"
   ]
  },
  {
   "cell_type": "code",
   "execution_count": 176,
   "metadata": {},
   "outputs": [],
   "source": [
    "prod_chain = \"1511 18523 9934 47209 44473 4920 13740 40910 21290 21137 44275 49235 28204 4793 33497 10895 41950 25072 48230 28993 5194 38313 42383 15700 5077 39921 2450 35108 31263 43789 21903 41544 18610 49174 21461 30336 39928 37220 17979|1511 21137 5194 2770 44275 4920 13740 47209 6631 38313 25072 4793 28204 21290 895 38453 32293 33135 39928 24841 24561 17484|24964 22935 43076 19519 45535 38274|1511 21137 5194 4920 44275 33497 9934 38313 28204 25072 4793 44473 895 40910 2452 39921 22170 20327 18610 7806 2081 4659 47766 17484 39781|49235 10749 44359 39275 21137 26209 28842 33746 3376|1511 21137 5194 49235 44275 44473 6631 2452 38313 40910 895 39921 22170 20327 10132 24841 39928 9076 21543 12204 3481 47766 17484 36772 18610 1896|2770 47209 34023 28849 3376 1999 5818 19678 31343 16570 39928 28204 12254 38274|2770 1511 21137 5194 44275 47209 44473 40910 28204 2452 38313 895 25072 22170 39921 33135 3481 18610 18523 35108 36036 16093 48720 21019 1896 26344|34551 3481 35108 24841 1896 26344 38641 21461 35045 49174 9808 1700 12980 6873 39430 14267|4920 4793 21137 44275 38313 1896 38641 26344|34448 22888 10761 9595 48230 32293 22935 45535 4920 44359 10132 1511 21137 22170|13740|37029 48230 2450 49235 5194|9598 4138 10761 42383 13740 24561 22935 4920 44359 10132 1511 44275 2452 895 28204 3481 1896 26344|9934 49235 39928 1511 28204|28985 32175 12916 45066 26790 12144 13740 4793 42265 39928 1511 44275 18610 35108|26790 13740 38453 4920 44359 47766 42265 1511 44275 44473 2452 1896 26344|4920 49235 1511|40604 34126 22474 4138 33198 44375 41220 27104 24964 31343 1511 25072 18610 35108 21461 49174|37119 22888 44375 10895 48230 28993 2450 32293 1511 22170 39921 18610 35108 12980|44912|41220 27104 24964 1511 21461 49174|22474 15143 44375 10761 13740 49235 25072 18610|18200 38383 39561 12144 37220 13740 44359 47766 17484 42265 1511 2770 5194 25072 22170 24841|45066 24852 2770 20995 31343 1999 18479 38562|1511 47766 13176 49235 2770 44275 28204 19048 581 34448 3599 26790 16145 8670 47626\""
   ]
  },
  {
   "cell_type": "code",
   "execution_count": 198,
   "metadata": {},
   "outputs": [],
   "source": [
    "def listcounter(list):\n",
    "    from collections import Counter\n",
    "    counts = Counter(list)\n",
    "    return counts.items()"
   ]
  },
  {
   "cell_type": "markdown",
   "metadata": {},
   "source": [
    "##### count frequency of each product purchased by the user to impement recommendations using collaborative filter techniques. "
   ]
  },
  {
   "cell_type": "code",
   "execution_count": 238,
   "metadata": {},
   "outputs": [],
   "source": [
    "user_product_matrix = inter1_join.mapValues(lambda x : x.split(\"|\")).mapValues(lambda x : ' '.join(x)).mapValues(lambda x : x.split(' ')).\\\n",
    "    map(lambda x: (x[0],listcounter(x[1]))).map(lambda x : [(x[0],)+ i for i in x[1]]).flatMap(lambda x : x).\\\n",
    "    map(lambda x : (str(x[0]),str(x[1]),str(x[2])) ).map(lambda x : ' '.join(x)).map(lambda x : x.split(' ')).\\\n",
    "    map(lambda x : [int(y) for y in x])"
   ]
  },
  {
   "cell_type": "code",
   "execution_count": 239,
   "metadata": {},
   "outputs": [
    {
     "data": {
      "text/plain": [
       "PythonRDD[548] at RDD at PythonRDD.scala:43"
      ]
     },
     "execution_count": 239,
     "metadata": {},
     "output_type": "execute_result"
    }
   ],
   "source": [
    "user_product_matrix.persist()"
   ]
  },
  {
   "cell_type": "code",
   "execution_count": 240,
   "metadata": {},
   "outputs": [
    {
     "data": {
      "text/plain": [
       "[[65538, 44359, 7],\n [65538, 9076, 1],\n [65538, 25072, 10],\n [65538, 47209, 6],\n [65538, 31343, 3],\n [65538, 21903, 1],\n [65538, 48416, 1],\n [65538, 34126, 1],\n [65538, 22935, 4],\n [65538, 22170, 7]]"
      ]
     },
     "execution_count": 240,
     "metadata": {},
     "output_type": "execute_result"
    }
   ],
   "source": [
    "user_product_matrix.take(10)"
   ]
  },
  {
   "cell_type": "code",
   "execution_count": 224,
   "metadata": {},
   "outputs": [
    {
     "data": {
      "text/plain": [
       "PythonRDD[366] at RDD at PythonRDD.scala:43"
      ]
     },
     "execution_count": 224,
     "metadata": {},
     "output_type": "execute_result"
    }
   ],
   "source": [
    "inter1_join.unpersist()"
   ]
  },
  {
   "cell_type": "code",
   "execution_count": 229,
   "metadata": {},
   "outputs": [],
   "source": [
    "from pyspark.mllib.recommendation import Rating, ALS"
   ]
  },
  {
   "cell_type": "code",
   "execution_count": 241,
   "metadata": {},
   "outputs": [],
   "source": [
    "als_matrix =user_product_matrix.map(lambda x : Rating(x[0], x[1], x[2]))"
   ]
  },
  {
   "cell_type": "markdown",
   "metadata": {},
   "source": [
    "##### Compute user rating rdd for training data set to find the model performance  "
   ]
  },
  {
   "cell_type": "code",
   "execution_count": 258,
   "metadata": {},
   "outputs": [],
   "source": [
    "model = ALS.trainImplicit(als_matrix , 10, 10, 0.01)"
   ]
  },
  {
   "cell_type": "code",
   "execution_count": 260,
   "metadata": {},
   "outputs": [
    {
     "data": {
      "text/plain": [
       "[Rating(user=1, product=13176, rating=0.6833920201082382),\n Rating(user=1, product=12341, rating=0.2606711224255599),\n Rating(user=1, product=6184, rating=0.25304948680000483),\n Rating(user=1, product=43352, rating=0.23523993177616165),\n Rating(user=1, product=21903, rating=0.21333270362711204),\n Rating(user=1, product=21137, rating=0.1810016485532501),\n Rating(user=1, product=196, rating=0.16125479473361332),\n Rating(user=1, product=42265, rating=0.1545010261115591),\n Rating(user=1, product=35561, rating=0.1408376275833716),\n Rating(user=1, product=39275, rating=0.13990913621452966),\n Rating(user=1, product=49235, rating=0.1329687481167136),\n Rating(user=1, product=21288, rating=0.1319131345745536),\n Rating(user=1, product=8048, rating=0.12885602575585925),\n Rating(user=1, product=30827, rating=0.12618212607377818),\n Rating(user=1, product=16797, rating=0.12424837651376963)]"
      ]
     },
     "execution_count": 260,
     "metadata": {},
     "output_type": "execute_result"
    }
   ],
   "source": [
    "model.recommendProducts(1, 15)"
   ]
  },
  {
   "cell_type": "code",
   "execution_count": 280,
   "metadata": {},
   "outputs": [],
   "source": [
    "model.save(sc, \"/user/cloudera/kaggle/model\")"
   ]
  },
  {
   "cell_type": "code",
   "execution_count": 281,
   "metadata": {},
   "outputs": [
    {
     "data": {
      "text/plain": [
       "PythonRDD[548] at RDD at PythonRDD.scala:43"
      ]
     },
     "execution_count": 281,
     "metadata": {},
     "output_type": "execute_result"
    }
   ],
   "source": [
    "user_product_matrix.unpersist()"
   ]
  },
  {
   "cell_type": "markdown",
   "metadata": {},
   "source": [
    "##### Compute user rating rdd for training data set to find the model performance  "
   ]
  },
  {
   "cell_type": "code",
   "execution_count": 249,
   "metadata": {},
   "outputs": [],
   "source": [
    "train_data = joined_train.map(lambda x : x.split(',')).map(lambda x : (int(x[1]), (x[0], x[3],x[4],x[6],x[7] ))).\\\n",
    "    combineByKey((lambda x : ((x[0],), (x[1],),(x[2],),(x[3],), (x[4],))), \n",
    "                 (lambda x,y: (x[0] + (y[0],),x[1] + (y[1],),x[2] + (y[2],),x[3] + (y[3],),x[4] + (y[4],))),\n",
    "                 (lambda x,y : (x[0]+y[0],x[1]+y[1],x[2]+y[2],x[3]+y[3],x[4]+y[4]))).map(lambda x : (x[0], tuplesort(x[1][0], x[1][1], x[1][2],x[1][3],x[1][4])))\\\n",
    "    .map(lambda x : (x[0],' '.join(x[1][0]), ' '.join(x[1][2]),' '.join(x[1][3]),'|'.join(x[1][4]))).map(lambda x : (x[0], x[4])).mapValues(lambda x : x.split(\"|\")).mapValues(lambda x : ' '.join(x)).mapValues(lambda x : x.split(' ')).\\\n",
    "    map(lambda x: (x[0],listcounter(x[1]))).map(lambda x : [(x[0],)+ i for i in x[1]]).flatMap(lambda x : x).\\\n",
    "    map(lambda x : (str(x[0]),str(x[1]),str(x[2])) ).map(lambda x : ' '.join(x)).map(lambda x : x.split(' ')).\\\n",
    "    map(lambda x : [int(y) for y in x]).map(lambda x : [x[0],x[1]])"
   ]
  },
  {
   "cell_type": "code",
   "execution_count": 252,
   "metadata": {},
   "outputs": [
    {
     "data": {
      "text/plain": [
       "PythonRDD[825] at RDD at PythonRDD.scala:43"
      ]
     },
     "execution_count": 252,
     "metadata": {},
     "output_type": "execute_result"
    }
   ],
   "source": [
    "train_data.persist()"
   ]
  },
  {
   "cell_type": "code",
   "execution_count": 261,
   "metadata": {},
   "outputs": [],
   "source": [
    "predictions = model.predictAll(train_data).map(lambda r: ((r[0], r[1]), r[2]))"
   ]
  },
  {
   "cell_type": "code",
   "execution_count": 263,
   "metadata": {},
   "outputs": [
    {
     "data": {
      "text/plain": [
       "[((156013, 17601), 0.005849102692537208),\n ((156013, 24852), 0.7391857780478983),\n ((156013, 2966), 0.03360833882420569),\n ((103301, 37257), 0.005271245290309876),\n ((103301, 33731), 0.0875574633099883),\n ((48510, 517), 0.013002532566667564),\n ((48510, 46941), 0.07975798909229428),\n ((48510, 32004), 0.00490046676878498),\n ((48510, 13802), 0.05643948368854896),\n ((165737, 4357), 0.013270055249441626),\n ((165737, 13819), 0.024175879277026587),\n ((165737, 16019), 0.00469022200586823),\n ((165737, 8277), 0.20567527370262928),\n ((165737, 46997), 0.001177208391205721),\n ((165737, 22974), 0.002409096715833825),\n ((165737, 27509), 0.016921683066339444),\n ((165737, 1406), 0.004884045454793455),\n ((193259, 38159), 0.19364532383908023),\n ((193259, 28204), 0.2198832427118078),\n ((193259, 42736), 0.27837735499853056),\n ((193259, 40174), 0.08257852843897551),\n ((193259, 38777), 0.19355528914651984),\n ((193259, 22025), 0.08768430701952536),\n ((193259, 32255), 0.004062573058343427),\n ((193259, 25072), 0.06470753624757491),\n ((193259, 45007), 0.26080520229535226),\n ((193259, 6343), 0.05271320895207653),\n ((193259, 34448), 0.1962988472129089),\n ((193259, 25890), 0.33746711501602944),\n ((193259, 43249), 0.034260491995681874),\n ((193259, 13176), 0.8962078876303708),\n ((193259, 44098), 0.053920786440089935),\n ((26158, 36126), 0.004874110493000829),\n ((26158, 13371), 0.0009447739247128565),\n ((26158, 44843), 0.024503853378627306),\n ((26158, 13627), 0.007962191651983913),\n ((144551, 9647), 0.0018115146947354833),\n ((144551, 42460), 0.03583035918253741),\n ((144551, 18987), 0.044422176304161405),\n ((144551, 41803), 0.00272670207828449),\n ((144551, 19495), 0.0057871819063421565),\n ((144551, 32200), 0.003597200108162474),\n ((144551, 4163), 0.001016646049039175),\n ((144551, 10070), 0.015649272450536496),\n ((144551, 45765), 0.003145875319162583),\n ((144551, 10279), 0.005789933613623859),\n ((144551, 31785), 0.0011727605125666975),\n ((144551, 33095), 0.011202848194833574),\n ((144551, 24703), 0.006466958934477475),\n ((144551, 35628), 0.008368333662252758)]"
      ]
     },
     "execution_count": 263,
     "metadata": {},
     "output_type": "execute_result"
    }
   ],
   "source": [
    "predictions.take(50)"
   ]
  },
  {
   "cell_type": "markdown",
   "metadata": {},
   "source": [
    "##### Seems like prediction ratings does not perform well on the training set\n",
    "##### FInding the average rating to define the threshhold"
   ]
  },
  {
   "cell_type": "code",
   "execution_count": 272,
   "metadata": {},
   "outputs": [
    {
     "data": {
      "text/plain": [
       "0.10464606522477252"
      ]
     },
     "execution_count": 272,
     "metadata": {},
     "output_type": "execute_result"
    }
   ],
   "source": [
    "predictions.map(lambda x : x[1]).reduce(lambda x,y : x+y)/predictions.map(lambda x : x[1]).count()"
   ]
  },
  {
   "cell_type": "markdown",
   "metadata": {},
   "source": [
    "##### since average rating for the training set 0.11 so product having rating greater than the average rating should be considered as the possible product"
   ]
  },
  {
   "cell_type": "markdown",
   "metadata": {},
   "source": [
    "##### recommending product for the test set "
   ]
  },
  {
   "cell_type": "code",
   "execution_count": 286,
   "metadata": {},
   "outputs": [],
   "source": [
    "test_users= x.filter(lambda  x : x[1][1]=='test').map(lambda x : x[1][0]).distinct()"
   ]
  },
  {
   "cell_type": "code",
   "execution_count": 282,
   "metadata": {},
   "outputs": [
    {
     "data": {
      "text/plain": [
       "PythonRDD[825] at RDD at PythonRDD.scala:43"
      ]
     },
     "execution_count": 282,
     "metadata": {},
     "output_type": "execute_result"
    }
   ],
   "source": [
    "train_data.unpersist()"
   ]
  },
  {
   "cell_type": "code",
   "execution_count": 288,
   "metadata": {},
   "outputs": [
    {
     "data": {
      "text/plain": [
       "PythonRDD[1146] at RDD at PythonRDD.scala:43"
      ]
     },
     "execution_count": 288,
     "metadata": {},
     "output_type": "execute_result"
    }
   ],
   "source": [
    "test_users.persist()"
   ]
  },
  {
   "cell_type": "code",
   "execution_count": 291,
   "metadata": {},
   "outputs": [
    {
     "data": {
      "text/plain": [
       "[35540, 73469, 98848, 35544, 146054, 73461, 53001, 161057, 145208, 11542]"
      ]
     },
     "execution_count": 291,
     "metadata": {},
     "output_type": "execute_result"
    }
   ],
   "source": [
    "userlist= test_users.map(lambda x : int(x))"
   ]
  },
  {
   "cell_type": "code",
   "execution_count": 292,
   "metadata": {},
   "outputs": [],
   "source": [
    "quit()  # closing spark shell"
   ]
  }
 ],
 "metadata": {
  "kernelspec": {
   "display_name": "Python 2",
   "language": "python",
   "name": "python2"
  },
  "language_info": {
   "codemirror_mode": {
    "name": "ipython",
    "version": 2.0
   },
   "file_extension": ".py",
   "mimetype": "text/x-python",
   "name": "python",
   "nbconvert_exporter": "python",
   "pygments_lexer": "ipython2",
   "version": "2.7.13"
  }
 },
 "nbformat": 4,
 "nbformat_minor": 0
}